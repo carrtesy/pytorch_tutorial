{
  "nbformat": 4,
  "nbformat_minor": 0,
  "metadata": {
    "colab": {
      "name": "Softmax and Activation.ipynb",
      "provenance": [],
      "authorship_tag": "ABX9TyPSEikSV/P6QNVm0/Gsf0Dv",
      "include_colab_link": true
    },
    "kernelspec": {
      "name": "python3",
      "display_name": "Python 3"
    },
    "language_info": {
      "name": "python"
    }
  },
  "cells": [
    {
      "cell_type": "markdown",
      "metadata": {
        "id": "view-in-github",
        "colab_type": "text"
      },
      "source": [
        "<a href=\"https://colab.research.google.com/github/dongminkim0220/pytorch_tutorial/blob/master/Softmax_and_Activation.ipynb\" target=\"_parent\"><img src=\"https://colab.research.google.com/assets/colab-badge.svg\" alt=\"Open In Colab\"/></a>"
      ]
    },
    {
      "cell_type": "markdown",
      "metadata": {
        "id": "6G0uIp-k3CU_"
      },
      "source": [
        "# Softmax, Activation"
      ]
    },
    {
      "cell_type": "markdown",
      "metadata": {
        "id": "HEj_uxdQLM3g"
      },
      "source": [
        "PyTorch Tutorial 11 - Softmax and Cross Entropy\n",
        "\n",
        "https://www.youtube.com/watch?v=7q7E91pHoW4&list=PLqnslRFeH2UrcDBWF5mfPGpqQDSta6VK4&index=11\n",
        "\n",
        "PyTorch Tutorial 12 - Activation Functions\n",
        "\n",
        "https://www.youtube.com/watch?v=3t9lZM7SS7k&list=PLqnslRFeH2UrcDBWF5mfPGpqQDSta6VK4&index=12"
      ]
    },
    {
      "cell_type": "code",
      "metadata": {
        "id": "84RZF7H13SC9"
      },
      "source": [
        "import torch\n",
        "import torch.nn as nn\n",
        "import numpy as np"
      ],
      "execution_count": 29,
      "outputs": []
    },
    {
      "cell_type": "markdown",
      "metadata": {
        "id": "C1t7xbT83OPL"
      },
      "source": [
        "softmax"
      ]
    },
    {
      "cell_type": "code",
      "metadata": {
        "id": "B1d4QANX3PYF"
      },
      "source": [
        "def softmax(x):\n",
        "  return np.exp(x) / np.sum(np.exp(x), axis = 0)"
      ],
      "execution_count": 30,
      "outputs": []
    },
    {
      "cell_type": "code",
      "metadata": {
        "id": "1nW4VbnZ3Zvv"
      },
      "source": [
        "x = np.array([2.0, 1.0, 0.1])\n",
        "outputs = softmax(x)"
      ],
      "execution_count": 31,
      "outputs": []
    },
    {
      "cell_type": "code",
      "metadata": {
        "colab": {
          "base_uri": "https://localhost:8080/"
        },
        "id": "diXG0uJV3fws",
        "outputId": "26f1021f-4562-451f-9c73-c03c8861b7e5"
      },
      "source": [
        "outputs"
      ],
      "execution_count": 32,
      "outputs": [
        {
          "output_type": "execute_result",
          "data": {
            "text/plain": [
              "array([0.65900114, 0.24243297, 0.09856589])"
            ]
          },
          "metadata": {
            "tags": []
          },
          "execution_count": 32
        }
      ]
    },
    {
      "cell_type": "markdown",
      "metadata": {
        "id": "BFJeQM2S3zPw"
      },
      "source": [
        "cross entropy"
      ]
    },
    {
      "cell_type": "code",
      "metadata": {
        "id": "ySga9SLi3hrc"
      },
      "source": [
        "def cross_entropy(actual, predicted):\n",
        "  loss = -np.sum(actual * np.log(predicted))\n",
        "  return loss"
      ],
      "execution_count": 33,
      "outputs": []
    },
    {
      "cell_type": "code",
      "metadata": {
        "id": "DDVgzACc3wsP"
      },
      "source": [
        "Y = np.array([1, 0, 0])"
      ],
      "execution_count": 34,
      "outputs": []
    },
    {
      "cell_type": "code",
      "metadata": {
        "id": "yCLHHq2P35Me"
      },
      "source": [
        "Y_pred_good = np.array([0.7, 0.2, 0.1])\n",
        "Y_pred_bad = np.array([0.1, 0.3, 0.6])"
      ],
      "execution_count": 35,
      "outputs": []
    },
    {
      "cell_type": "code",
      "metadata": {
        "colab": {
          "base_uri": "https://localhost:8080/"
        },
        "id": "Xc0Ao38m4EOc",
        "outputId": "a543c3e1-509c-426a-ca08-a1e23fb776b8"
      },
      "source": [
        "cross_entropy(Y, Y_pred_good)"
      ],
      "execution_count": 36,
      "outputs": [
        {
          "output_type": "execute_result",
          "data": {
            "text/plain": [
              "0.35667494393873245"
            ]
          },
          "metadata": {
            "tags": []
          },
          "execution_count": 36
        }
      ]
    },
    {
      "cell_type": "code",
      "metadata": {
        "colab": {
          "base_uri": "https://localhost:8080/"
        },
        "id": "_M_pCu-V4KeU",
        "outputId": "938bdb34-1483-49b4-c5af-fc133ac2d9cf"
      },
      "source": [
        "cross_entropy(Y, Y_pred_bad)"
      ],
      "execution_count": 37,
      "outputs": [
        {
          "output_type": "execute_result",
          "data": {
            "text/plain": [
              "2.3025850929940455"
            ]
          },
          "metadata": {
            "tags": []
          },
          "execution_count": 37
        }
      ]
    },
    {
      "cell_type": "markdown",
      "metadata": {
        "id": "ZSt3RizD4MjU"
      },
      "source": [
        "pytorch"
      ]
    },
    {
      "cell_type": "code",
      "metadata": {
        "id": "JC71TxWO4Rk8"
      },
      "source": [
        "loss = nn.CrossEntropyLoss()"
      ],
      "execution_count": 38,
      "outputs": []
    },
    {
      "cell_type": "code",
      "metadata": {
        "id": "OAk6LVsy4Wyd"
      },
      "source": [
        "# nsamples: 1\n",
        "Y = torch.tensor([0])\n",
        "\n",
        "# nsamples x nclasses: 1 x 3\n",
        "Y_pred_good = torch.tensor([[2,0, 1.0, 0.1]])\n",
        "Y_pred_bad = torch.tensor([[0.5, 2.0, 0.3]])"
      ],
      "execution_count": 39,
      "outputs": []
    },
    {
      "cell_type": "code",
      "metadata": {
        "colab": {
          "base_uri": "https://localhost:8080/"
        },
        "id": "ZNn0381c47BE",
        "outputId": "65c2e92c-7ca0-4603-fc26-6db1bbe32d64"
      },
      "source": [
        "loss(Y_pred_good, Y)"
      ],
      "execution_count": 40,
      "outputs": [
        {
          "output_type": "execute_result",
          "data": {
            "text/plain": [
              "tensor(0.5025)"
            ]
          },
          "metadata": {
            "tags": []
          },
          "execution_count": 40
        }
      ]
    },
    {
      "cell_type": "code",
      "metadata": {
        "colab": {
          "base_uri": "https://localhost:8080/"
        },
        "id": "Hd3nBeAD4-Q8",
        "outputId": "572bf184-0b64-4138-c26e-3513671e6a9b"
      },
      "source": [
        "loss(Y_pred_bad, Y)"
      ],
      "execution_count": 41,
      "outputs": [
        {
          "output_type": "execute_result",
          "data": {
            "text/plain": [
              "tensor(1.8406)"
            ]
          },
          "metadata": {
            "tags": []
          },
          "execution_count": 41
        }
      ]
    },
    {
      "cell_type": "code",
      "metadata": {
        "id": "sEUO6np55NgN"
      },
      "source": [
        "_, predictions1 = torch.max(Y_pred_good, 1)\n",
        "_, predictions2 = torch.max(Y_pred_bad, 1)"
      ],
      "execution_count": 42,
      "outputs": []
    },
    {
      "cell_type": "code",
      "metadata": {
        "colab": {
          "base_uri": "https://localhost:8080/"
        },
        "id": "YEr6PMcR5VnN",
        "outputId": "a1857b5a-a386-4721-fa10-7e5110ee54d2"
      },
      "source": [
        "predictions1"
      ],
      "execution_count": 43,
      "outputs": [
        {
          "output_type": "execute_result",
          "data": {
            "text/plain": [
              "tensor([0])"
            ]
          },
          "metadata": {
            "tags": []
          },
          "execution_count": 43
        }
      ]
    },
    {
      "cell_type": "code",
      "metadata": {
        "colab": {
          "base_uri": "https://localhost:8080/"
        },
        "id": "tI20SNFl5Wj9",
        "outputId": "63ac3536-16f5-436d-c189-3badb6502679"
      },
      "source": [
        "predictions2"
      ],
      "execution_count": 44,
      "outputs": [
        {
          "output_type": "execute_result",
          "data": {
            "text/plain": [
              "tensor([1])"
            ]
          },
          "metadata": {
            "tags": []
          },
          "execution_count": 44
        }
      ]
    },
    {
      "cell_type": "markdown",
      "metadata": {
        "id": "KtoXFLk75Xnk"
      },
      "source": [
        "Models with activation"
      ]
    },
    {
      "cell_type": "code",
      "metadata": {
        "id": "_4LaLXKqBhXE"
      },
      "source": [
        "import torch.nn.functional as F "
      ],
      "execution_count": 45,
      "outputs": []
    },
    {
      "cell_type": "code",
      "metadata": {
        "colab": {
          "base_uri": "https://localhost:8080/"
        },
        "id": "2dGsIZoRKbOC",
        "outputId": "c38ce0fa-9146-432f-ecdb-aec051180722"
      },
      "source": [
        "F.leaky_relu"
      ],
      "execution_count": 47,
      "outputs": [
        {
          "output_type": "execute_result",
          "data": {
            "text/plain": [
              "<function torch.nn.functional.leaky_relu>"
            ]
          },
          "metadata": {
            "tags": []
          },
          "execution_count": 47
        }
      ]
    }
  ]
}