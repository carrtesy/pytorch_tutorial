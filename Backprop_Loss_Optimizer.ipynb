{
  "nbformat": 4,
  "nbformat_minor": 0,
  "metadata": {
    "colab": {
      "name": "Backprop-Loss-Optimizer.ipynb",
      "provenance": [],
      "authorship_tag": "ABX9TyNUGV/ldpvI2m45ZvWdh5Xe",
      "include_colab_link": true
    },
    "kernelspec": {
      "name": "python3",
      "display_name": "Python 3"
    },
    "language_info": {
      "name": "python"
    }
  },
  "cells": [
    {
      "cell_type": "markdown",
      "metadata": {
        "id": "view-in-github",
        "colab_type": "text"
      },
      "source": [
        "<a href=\"https://colab.research.google.com/github/dongminkim0220/pytorch_tutorial/blob/master/Backprop_Loss_Optimizer.ipynb\" target=\"_parent\"><img src=\"https://colab.research.google.com/assets/colab-badge.svg\" alt=\"Open In Colab\"/></a>"
      ]
    },
    {
      "cell_type": "markdown",
      "metadata": {
        "id": "YBZVqX6WaFor"
      },
      "source": [
        "# Backprop-Loss-Optimizer"
      ]
    },
    {
      "cell_type": "markdown",
      "metadata": {
        "id": "dEzMqcilaKW8"
      },
      "source": [
        "PyTorch Tutorial 04 - Backpropagation - Theory With Example\n",
        "\n",
        "https://www.youtube.com/watch?v=3Kb0QS6z7WA&list=PLqnslRFeH2UrcDBWF5mfPGpqQDSta6VK4&index=4\n",
        "\n",
        "PyTorch Tutorial 05 - Gradient Descent with Autograd and Backpropagation\n",
        "\n",
        "https://www.youtube.com/watch?v=E-I2DNVzQLg&list=PLqnslRFeH2UrcDBWF5mfPGpqQDSta6VK4&index=5\n",
        "\n",
        "PyTorch Tutorial 06 - Training Pipeline: Model, Loss, and Optimizer\n",
        "\n",
        "https://www.youtube.com/watch?v=VVDHU_TWwUg&list=PLqnslRFeH2UrcDBWF5mfPGpqQDSta6VK4&index=6"
      ]
    },
    {
      "cell_type": "code",
      "metadata": {
        "id": "csQqt2g7aOkB"
      },
      "source": [
        "import torch"
      ],
      "execution_count": 44,
      "outputs": []
    },
    {
      "cell_type": "code",
      "metadata": {
        "id": "UW_k5gPMaPzf"
      },
      "source": [
        "x = torch.tensor(1.0)\n",
        "y = torch.tensor(2.0)\n",
        "w = torch.tensor(1.0, requires_grad = True)"
      ],
      "execution_count": 45,
      "outputs": []
    },
    {
      "cell_type": "markdown",
      "metadata": {
        "id": "NaFnyl5_acOc"
      },
      "source": [
        "forward pass and compute the loss"
      ]
    },
    {
      "cell_type": "code",
      "metadata": {
        "id": "xzR40qm9ae0L"
      },
      "source": [
        "y_hat = w * x"
      ],
      "execution_count": 46,
      "outputs": []
    },
    {
      "cell_type": "code",
      "metadata": {
        "id": "XcgCpU2CagMM"
      },
      "source": [
        "loss = (y_hat - y)**2"
      ],
      "execution_count": 47,
      "outputs": []
    },
    {
      "cell_type": "code",
      "metadata": {
        "colab": {
          "base_uri": "https://localhost:8080/"
        },
        "id": "uf-YMjQKahSL",
        "outputId": "df9cf619-9c14-4647-b1b9-840199627569"
      },
      "source": [
        "loss"
      ],
      "execution_count": 48,
      "outputs": [
        {
          "output_type": "execute_result",
          "data": {
            "text/plain": [
              "tensor(1., grad_fn=<PowBackward0>)"
            ]
          },
          "metadata": {
            "tags": []
          },
          "execution_count": 48
        }
      ]
    },
    {
      "cell_type": "markdown",
      "metadata": {
        "id": "dZ-EDy6iakKk"
      },
      "source": [
        "backward pass"
      ]
    },
    {
      "cell_type": "code",
      "metadata": {
        "id": "Y7lVrW2Yaols"
      },
      "source": [
        "loss.backward()"
      ],
      "execution_count": 49,
      "outputs": []
    },
    {
      "cell_type": "code",
      "metadata": {
        "colab": {
          "base_uri": "https://localhost:8080/"
        },
        "id": "Qp5H8qC3atQk",
        "outputId": "ac2ca9e5-6241-40af-97f5-c8ec76840c86"
      },
      "source": [
        "w.grad"
      ],
      "execution_count": 50,
      "outputs": [
        {
          "output_type": "execute_result",
          "data": {
            "text/plain": [
              "tensor(-2.)"
            ]
          },
          "metadata": {
            "tags": []
          },
          "execution_count": 50
        }
      ]
    },
    {
      "cell_type": "markdown",
      "metadata": {
        "id": "kBoxdjPPaIew"
      },
      "source": [
        "## gradient with numpy"
      ]
    },
    {
      "cell_type": "code",
      "metadata": {
        "id": "k6HoJPuuaX7l"
      },
      "source": [
        "import numpy as np"
      ],
      "execution_count": 51,
      "outputs": []
    },
    {
      "cell_type": "code",
      "metadata": {
        "id": "uW_P9ygCa0DF"
      },
      "source": [
        "X = np.array([1, 2, 3, 4], dtype = np.float32)\n",
        "\n",
        "Y = np.array([2, 4, 6, 8], dtype = np.float32)\n",
        "\n",
        "w = 0.0"
      ],
      "execution_count": 52,
      "outputs": []
    },
    {
      "cell_type": "markdown",
      "metadata": {
        "id": "oWB08Iqta3PF"
      },
      "source": [
        "model prediction"
      ]
    },
    {
      "cell_type": "code",
      "metadata": {
        "id": "4dd9ssk9bL6E"
      },
      "source": [
        "def forward(x):\n",
        "  return w * x"
      ],
      "execution_count": 53,
      "outputs": []
    },
    {
      "cell_type": "markdown",
      "metadata": {
        "id": "BVPSTYF3bOyl"
      },
      "source": [
        "loss"
      ]
    },
    {
      "cell_type": "code",
      "metadata": {
        "id": "fqxamS8KbQeE"
      },
      "source": [
        "def loss(y, y_predicted):\n",
        "  return ((y_predicted-y)**2).mean()"
      ],
      "execution_count": 54,
      "outputs": []
    },
    {
      "cell_type": "markdown",
      "metadata": {
        "id": "8ZiQ4eVQbf2k"
      },
      "source": [
        "gradient\n",
        "MSE = 1/N * (w *x - y) ** 2\n",
        "dJ / dw = 1 / N * 2(w*x-y)"
      ]
    },
    {
      "cell_type": "code",
      "metadata": {
        "id": "qh14OkZlbtgc"
      },
      "source": [
        "def gradient(x, y, y_predicted):\n",
        "  return np.dot(2 * x, y_predicted - y).mean()"
      ],
      "execution_count": 55,
      "outputs": []
    },
    {
      "cell_type": "markdown",
      "metadata": {
        "id": "MwSadcHQdyHW"
      },
      "source": [
        "before training"
      ]
    },
    {
      "cell_type": "code",
      "metadata": {
        "colab": {
          "base_uri": "https://localhost:8080/"
        },
        "id": "p02KsKrFb-Ev",
        "outputId": "2a6cbecc-db8e-4f96-ab22-8beb6dd12d00"
      },
      "source": [
        "forward(5)"
      ],
      "execution_count": 56,
      "outputs": [
        {
          "output_type": "execute_result",
          "data": {
            "text/plain": [
              "0.0"
            ]
          },
          "metadata": {
            "tags": []
          },
          "execution_count": 56
        }
      ]
    },
    {
      "cell_type": "markdown",
      "metadata": {
        "id": "dcZhvpRecFKm"
      },
      "source": [
        "Training"
      ]
    },
    {
      "cell_type": "code",
      "metadata": {
        "id": "8ZfHe-XLcIpU"
      },
      "source": [
        "learning_rate = 0.01\n",
        "n_iters = 10"
      ],
      "execution_count": 57,
      "outputs": []
    },
    {
      "cell_type": "code",
      "metadata": {
        "colab": {
          "base_uri": "https://localhost:8080/"
        },
        "id": "QWewHrzZcK-G",
        "outputId": "f976674c-8eb5-426a-9b68-5b6ce5d3269a"
      },
      "source": [
        "for epoch in range(n_iters):\n",
        "  # prediction = forward pass\n",
        "  y_pred = forward(X)\n",
        "\n",
        "  # loss\n",
        "  l = loss(Y, y_pred)\n",
        "\n",
        "  # gradients\n",
        "  dw = gradient(X, Y, y_pred)\n",
        "\n",
        "  # update weights\n",
        "  w -= learning_rate * dw\n",
        "\n",
        "  if epoch % 1 == 0:\n",
        "    print(f'epoch {epoch + 1}: w = {w:.3f}, loss = {l:.8f}')"
      ],
      "execution_count": 58,
      "outputs": [
        {
          "output_type": "stream",
          "text": [
            "epoch 1: w = 1.200, loss = 30.00000000\n",
            "epoch 2: w = 1.680, loss = 4.79999924\n",
            "epoch 3: w = 1.872, loss = 0.76800019\n",
            "epoch 4: w = 1.949, loss = 0.12288000\n",
            "epoch 5: w = 1.980, loss = 0.01966083\n",
            "epoch 6: w = 1.992, loss = 0.00314574\n",
            "epoch 7: w = 1.997, loss = 0.00050331\n",
            "epoch 8: w = 1.999, loss = 0.00008053\n",
            "epoch 9: w = 1.999, loss = 0.00001288\n",
            "epoch 10: w = 2.000, loss = 0.00000206\n"
          ],
          "name": "stdout"
        }
      ]
    },
    {
      "cell_type": "markdown",
      "metadata": {
        "id": "rEJtw7amd1VN"
      },
      "source": [
        "after training"
      ]
    },
    {
      "cell_type": "code",
      "metadata": {
        "colab": {
          "base_uri": "https://localhost:8080/"
        },
        "id": "aJM4HtoFc4s3",
        "outputId": "9f399959-7fb2-4ae1-c967-95e30f1a73e8"
      },
      "source": [
        "forward(5)"
      ],
      "execution_count": 59,
      "outputs": [
        {
          "output_type": "execute_result",
          "data": {
            "text/plain": [
              "9.998951268196105"
            ]
          },
          "metadata": {
            "tags": []
          },
          "execution_count": 59
        }
      ]
    },
    {
      "cell_type": "markdown",
      "metadata": {
        "id": "Pt-UVzoRdg8e"
      },
      "source": [
        "## gradient with torch"
      ]
    },
    {
      "cell_type": "code",
      "metadata": {
        "id": "vTqqfA-KeMu7"
      },
      "source": [
        "X = torch.tensor([1, 2, 3, 4], dtype = torch.float32)\n",
        "\n",
        "Y = torch.tensor([2, 4, 6, 8], dtype = torch.float32)\n",
        "\n",
        "w = torch.tensor(0.0, dtype = torch.float32, requires_grad=True)"
      ],
      "execution_count": 60,
      "outputs": []
    },
    {
      "cell_type": "code",
      "metadata": {
        "id": "9cwwQtYheijD"
      },
      "source": [
        "learning_rate = 0.01\n",
        "n_iters = 100"
      ],
      "execution_count": 61,
      "outputs": []
    },
    {
      "cell_type": "code",
      "metadata": {
        "colab": {
          "base_uri": "https://localhost:8080/"
        },
        "id": "n8ry20umenX9",
        "outputId": "b2e2e470-1b6c-45e6-b245-4ff88397434b"
      },
      "source": [
        "for epoch in range(n_iters):\n",
        "  # prediction = forward pass\n",
        "  y_pred = forward(X)\n",
        "\n",
        "  # loss\n",
        "  l = loss(Y, y_pred)\n",
        "\n",
        "  # gradients\n",
        "  l.backward() # dl/dw \n",
        "\n",
        "  # update weights\n",
        "  # weight update should not be part of grad\n",
        "  with torch.no_grad():\n",
        "    w -= learning_rate * w.grad\n",
        "\n",
        "  # zero grad\n",
        "  # w.grad is accumulated, so set it to zero\n",
        "  w.grad.zero_()\n",
        "\n",
        "  if epoch % 10 == 0:\n",
        "    print(f'epoch {epoch + 1}: w = {w:.3f}, loss = {l:.8f}')"
      ],
      "execution_count": 62,
      "outputs": [
        {
          "output_type": "stream",
          "text": [
            "epoch 1: w = 0.300, loss = 30.00000000\n",
            "epoch 11: w = 1.665, loss = 1.16278565\n",
            "epoch 21: w = 1.934, loss = 0.04506890\n",
            "epoch 31: w = 1.987, loss = 0.00174685\n",
            "epoch 41: w = 1.997, loss = 0.00006770\n",
            "epoch 51: w = 1.999, loss = 0.00000262\n",
            "epoch 61: w = 2.000, loss = 0.00000010\n",
            "epoch 71: w = 2.000, loss = 0.00000000\n",
            "epoch 81: w = 2.000, loss = 0.00000000\n",
            "epoch 91: w = 2.000, loss = 0.00000000\n"
          ],
          "name": "stdout"
        }
      ]
    },
    {
      "cell_type": "markdown",
      "metadata": {
        "id": "xK3kUoF7fIod"
      },
      "source": [
        "## steps\n",
        "1) design models (input, output size, forward pass)\n",
        "\n",
        "2) loss, optimizer\n",
        "\n",
        "3) training loop\n",
        "\n",
        "- forward: compute prediction\n",
        "- backward: gradients\n",
        "- update weights"
      ]
    },
    {
      "cell_type": "code",
      "metadata": {
        "id": "q7IqGOXx0kjq"
      },
      "source": [
        "import torch\n",
        "import torch.nn as nn"
      ],
      "execution_count": 97,
      "outputs": []
    },
    {
      "cell_type": "code",
      "metadata": {
        "id": "xq8ZCTLk1nmI"
      },
      "source": [
        "X = torch.tensor([[1], [2], [3], [4]], dtype = torch.float32)\n",
        "\n",
        "Y = torch.tensor([[2], [4], [6], [8]], dtype = torch.float32)\n",
        "\n",
        "n_samples, n_features = X.shape"
      ],
      "execution_count": 105,
      "outputs": []
    },
    {
      "cell_type": "code",
      "metadata": {
        "id": "YQ6DRLXA2H4-"
      },
      "source": [
        "X_test = torch.tensor([5], dtype = torch.float32)"
      ],
      "execution_count": 99,
      "outputs": []
    },
    {
      "cell_type": "code",
      "metadata": {
        "colab": {
          "base_uri": "https://localhost:8080/"
        },
        "id": "NdPy3riE1y5X",
        "outputId": "b1338e12-4496-4fc4-b48e-9aeced9a6906"
      },
      "source": [
        "n_samples, n_features"
      ],
      "execution_count": 100,
      "outputs": [
        {
          "output_type": "execute_result",
          "data": {
            "text/plain": [
              "(4, 1)"
            ]
          },
          "metadata": {
            "tags": []
          },
          "execution_count": 100
        }
      ]
    },
    {
      "cell_type": "code",
      "metadata": {
        "id": "d-g_ozrv14h3"
      },
      "source": [
        "input_size = n_features\n",
        "output_size = n_features"
      ],
      "execution_count": 101,
      "outputs": []
    },
    {
      "cell_type": "code",
      "metadata": {
        "id": "TSmCyHOO0rN3"
      },
      "source": [
        "learning_rate = 0.01\n",
        "n_iters = 100\n",
        "loss = nn.MSELoss()"
      ],
      "execution_count": 102,
      "outputs": []
    },
    {
      "cell_type": "code",
      "metadata": {
        "id": "vKAzvVTY0_tL"
      },
      "source": [
        "model = nn.Linear(input_size, output_size)\n",
        "optimizer = torch.optim.SGD(model.parameters(), lr = learning_rate)"
      ],
      "execution_count": 103,
      "outputs": []
    },
    {
      "cell_type": "code",
      "metadata": {
        "colab": {
          "base_uri": "https://localhost:8080/"
        },
        "id": "lQ2JTatN1CUt",
        "outputId": "2cad4705-27fb-491a-e05a-df128e0941dd"
      },
      "source": [
        "for epoch in range(n_iters):\n",
        "  # prediction = forward pass\n",
        "  y_pred = model(X)\n",
        "\n",
        "  # loss\n",
        "  l = loss(Y, y_pred)\n",
        "\n",
        "  # gradients\n",
        "  l.backward() # dl/dw \n",
        "\n",
        "  # update weights\n",
        "  # weight update should not be part of grad\n",
        "  optimizer.step()\n",
        "\n",
        "  # zero grad\n",
        "  # w.grad is accumulated, so set it to zero\n",
        "  optimizer.zero_grad()\n",
        "\n",
        "  if epoch % 10 == 0:\n",
        "    [w, b] = model.parameters()\n",
        "    print(f'epoch {epoch + 1}: w = {w[0][0].item():.3f}, loss = {l:.8f}')"
      ],
      "execution_count": 104,
      "outputs": [
        {
          "output_type": "stream",
          "text": [
            "epoch 1: w = 1.155, loss = 10.25678253\n",
            "epoch 11: w = 1.887, loss = 0.26645815\n",
            "epoch 21: w = 2.004, loss = 0.00792098\n",
            "epoch 31: w = 2.023, loss = 0.00117224\n",
            "epoch 41: w = 2.025, loss = 0.00094132\n",
            "epoch 51: w = 2.025, loss = 0.00088232\n",
            "epoch 61: w = 2.024, loss = 0.00083086\n",
            "epoch 71: w = 2.023, loss = 0.00078249\n",
            "epoch 81: w = 2.023, loss = 0.00073695\n",
            "epoch 91: w = 2.022, loss = 0.00069405\n"
          ],
          "name": "stdout"
        }
      ]
    },
    {
      "cell_type": "markdown",
      "metadata": {
        "id": "3ffChwaU1Knj"
      },
      "source": [
        "## with class def"
      ]
    },
    {
      "cell_type": "code",
      "metadata": {
        "id": "1QofOv2p5veA"
      },
      "source": [
        "X = torch.tensor([[1], [2], [3], [4]], dtype = torch.float32)\n",
        "\n",
        "Y = torch.tensor([[2], [4], [6], [8]], dtype = torch.float32)"
      ],
      "execution_count": 126,
      "outputs": []
    },
    {
      "cell_type": "code",
      "metadata": {
        "id": "rruPYka_4zXB"
      },
      "source": [
        "class LinearRegression(nn.Module):\n",
        "  def __init__(self, input_dim, output_dim):\n",
        "    super(LinearRegression, self).__init__()\n",
        "    # define layers\n",
        "    self.lin = nn.Linear(input_dim, output_dim)\n",
        "\n",
        "  def forward(self, x):\n",
        "    return self.lin(x)\n",
        "\n",
        "model = LinearRegression(input_size, output_size)"
      ],
      "execution_count": 127,
      "outputs": []
    },
    {
      "cell_type": "code",
      "metadata": {
        "id": "Zz_fdkog5u1L"
      },
      "source": [
        "n_samples, n_features = X.shape"
      ],
      "execution_count": 128,
      "outputs": []
    },
    {
      "cell_type": "code",
      "metadata": {
        "colab": {
          "base_uri": "https://localhost:8080/"
        },
        "id": "2vvePFbz52u8",
        "outputId": "2743a1e8-7e31-4f51-afee-bc5a2777d50c"
      },
      "source": [
        "n_samples, n_features"
      ],
      "execution_count": 129,
      "outputs": [
        {
          "output_type": "execute_result",
          "data": {
            "text/plain": [
              "(4, 1)"
            ]
          },
          "metadata": {
            "tags": []
          },
          "execution_count": 129
        }
      ]
    },
    {
      "cell_type": "code",
      "metadata": {
        "id": "ov7X-6YX6CLr"
      },
      "source": [
        "iter = 100\n",
        "learning_rate = 0.01"
      ],
      "execution_count": 130,
      "outputs": []
    },
    {
      "cell_type": "code",
      "metadata": {
        "id": "AIlzXZgI55pE"
      },
      "source": [
        "loss = nn.MSELoss()\n",
        "optimizer = torch.optim.SGD(params = model.parameters(),lr = learning_rate)"
      ],
      "execution_count": 131,
      "outputs": []
    },
    {
      "cell_type": "code",
      "metadata": {
        "colab": {
          "base_uri": "https://localhost:8080/"
        },
        "id": "-LAvii6P6GsT",
        "outputId": "e56b3903-4b98-489b-d2c2-cf0fa0cea67a"
      },
      "source": [
        "for epoch in range(iter):\n",
        "  y_pred = model(X)\n",
        "  l = loss(Y, y_pred)\n",
        "  l.backward()\n",
        "\n",
        "  optimizer.step()\n",
        "  optimizer.zero_grad()\n",
        "\n",
        "  if epoch % 10 == 0:\n",
        "    print(f\"epoch: {epoch}, w: {w[0][0].item()}, loss: {l}\")\n",
        "  "
      ],
      "execution_count": 132,
      "outputs": [
        {
          "output_type": "stream",
          "text": [
            "epoch: 0, w: 2.021278142929077, loss: 37.851158142089844\n",
            "epoch: 10, w: 2.021278142929077, loss: 0.994083046913147\n",
            "epoch: 20, w: 2.021278142929077, loss: 0.03964261710643768\n",
            "epoch: 30, w: 2.021278142929077, loss: 0.01413857564330101\n",
            "epoch: 40, w: 2.021278142929077, loss: 0.012715504504740238\n",
            "epoch: 50, w: 2.021278142929077, loss: 0.011959866620600224\n",
            "epoch: 60, w: 2.021278142929077, loss: 0.011263318359851837\n",
            "epoch: 70, w: 2.021278142929077, loss: 0.010607723146677017\n",
            "epoch: 80, w: 2.021278142929077, loss: 0.009990283288061619\n",
            "epoch: 90, w: 2.021278142929077, loss: 0.009408797137439251\n"
          ],
          "name": "stdout"
        }
      ]
    }
  ]
}