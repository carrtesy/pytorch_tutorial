{
  "nbformat": 4,
  "nbformat_minor": 0,
  "metadata": {
    "colab": {
      "name": "Tensors.ipynb",
      "provenance": [],
      "authorship_tag": "ABX9TyPHE04kF99h4AyBTSXSAvHn",
      "include_colab_link": true
    },
    "kernelspec": {
      "name": "python3",
      "display_name": "Python 3"
    },
    "language_info": {
      "name": "python"
    }
  },
  "cells": [
    {
      "cell_type": "markdown",
      "metadata": {
        "id": "view-in-github",
        "colab_type": "text"
      },
      "source": [
        "<a href=\"https://colab.research.google.com/github/dongminkim0220/pytorch_tutorial/blob/master/Tensors.ipynb\" target=\"_parent\"><img src=\"https://colab.research.google.com/assets/colab-badge.svg\" alt=\"Open In Colab\"/></a>"
      ]
    },
    {
      "cell_type": "markdown",
      "metadata": {
        "id": "JPgfLD21Tk17"
      },
      "source": [
        "# Tensor Basics\n"
      ]
    },
    {
      "cell_type": "markdown",
      "metadata": {
        "id": "N7RdMVClTsQi"
      },
      "source": [
        "PyTorch Tutorial 02 - Tensor Basics: https://www.youtube.com/watch?v=exaWOE8jvy8&list=PLqnslRFeH2UrcDBWF5mfPGpqQDSta6VK4&index=3"
      ]
    },
    {
      "cell_type": "markdown",
      "metadata": {
        "id": "Xv13CUxNM7VQ"
      },
      "source": [
        "# tensors"
      ]
    },
    {
      "cell_type": "code",
      "metadata": {
        "id": "vz1KjFpwMmRd"
      },
      "source": [
        "import torch"
      ],
      "execution_count": 1,
      "outputs": []
    },
    {
      "cell_type": "code",
      "metadata": {
        "id": "HloEup7VM1Zk"
      },
      "source": [
        "x = torch.empty(1)"
      ],
      "execution_count": 2,
      "outputs": []
    },
    {
      "cell_type": "code",
      "metadata": {
        "colab": {
          "base_uri": "https://localhost:8080/"
        },
        "id": "byk4Ts-iM5LF",
        "outputId": "1f6fc43e-8896-4780-f6c5-ef72e27a4b9c"
      },
      "source": [
        "x"
      ],
      "execution_count": 3,
      "outputs": [
        {
          "output_type": "execute_result",
          "data": {
            "text/plain": [
              "tensor([2.7865e-08])"
            ]
          },
          "metadata": {
            "tags": []
          },
          "execution_count": 3
        }
      ]
    },
    {
      "cell_type": "code",
      "metadata": {
        "id": "CzeMXWsqM6JO"
      },
      "source": [
        "x = torch.empty(2, 3)"
      ],
      "execution_count": 4,
      "outputs": []
    },
    {
      "cell_type": "code",
      "metadata": {
        "colab": {
          "base_uri": "https://localhost:8080/"
        },
        "id": "3abfio4PNKQB",
        "outputId": "39cf164b-8b48-48c7-f9b1-f832a55140ab"
      },
      "source": [
        "x"
      ],
      "execution_count": 5,
      "outputs": [
        {
          "output_type": "execute_result",
          "data": {
            "text/plain": [
              "tensor([[2.7866e-08, 3.0667e-41, 1.5975e-43],\n",
              "        [1.3873e-43, 1.4574e-43, 6.4460e-44]])"
            ]
          },
          "metadata": {
            "tags": []
          },
          "execution_count": 5
        }
      ]
    },
    {
      "cell_type": "code",
      "metadata": {
        "id": "eZR43vmuNKhQ"
      },
      "source": [
        "x = torch.empty(2, 2, 2, 3)"
      ],
      "execution_count": 6,
      "outputs": []
    },
    {
      "cell_type": "code",
      "metadata": {
        "colab": {
          "base_uri": "https://localhost:8080/"
        },
        "id": "dSb_ssRENNtk",
        "outputId": "7c81ae9e-2e07-4367-8a2e-4fa69af2dd77"
      },
      "source": [
        "x"
      ],
      "execution_count": 7,
      "outputs": [
        {
          "output_type": "execute_result",
          "data": {
            "text/plain": [
              "tensor([[[[2.7910e-08, 3.0667e-41, 7.0065e-44],\n",
              "          [6.8664e-44, 6.3058e-44, 6.7262e-44]],\n",
              "\n",
              "         [[7.4269e-44, 6.3058e-44, 7.0065e-44],\n",
              "          [6.7262e-44, 1.1771e-43, 6.7262e-44]]],\n",
              "\n",
              "\n",
              "        [[[7.4269e-44, 8.1275e-44, 6.8664e-44],\n",
              "          [7.7071e-44, 8.1275e-44, 6.8664e-44]],\n",
              "\n",
              "         [[7.5670e-44, 6.4460e-44, 7.8473e-44],\n",
              "          [6.7262e-44, 7.8473e-44, 7.4269e-44]]]])"
            ]
          },
          "metadata": {
            "tags": []
          },
          "execution_count": 7
        }
      ]
    },
    {
      "cell_type": "markdown",
      "metadata": {
        "id": "kyv6LNORNOFs"
      },
      "source": [
        "## other options"
      ]
    },
    {
      "cell_type": "code",
      "metadata": {
        "id": "jf-RfWs2NXCM"
      },
      "source": [
        "x = torch.zeros(2, 2)"
      ],
      "execution_count": 8,
      "outputs": []
    },
    {
      "cell_type": "code",
      "metadata": {
        "colab": {
          "base_uri": "https://localhost:8080/"
        },
        "id": "sJLCNEKdNf1O",
        "outputId": "8e33b7ba-be2b-4ed7-a05a-e8ba9971a69e"
      },
      "source": [
        "x"
      ],
      "execution_count": 9,
      "outputs": [
        {
          "output_type": "execute_result",
          "data": {
            "text/plain": [
              "tensor([[0., 0.],\n",
              "        [0., 0.]])"
            ]
          },
          "metadata": {
            "tags": []
          },
          "execution_count": 9
        }
      ]
    },
    {
      "cell_type": "code",
      "metadata": {
        "id": "Z08xhnbHNgFl"
      },
      "source": [
        "x = torch.ones(2, 2)"
      ],
      "execution_count": 10,
      "outputs": []
    },
    {
      "cell_type": "code",
      "metadata": {
        "colab": {
          "base_uri": "https://localhost:8080/"
        },
        "id": "Eqph83BSNisE",
        "outputId": "79600ee8-2239-4a58-cbb6-3797be4df230"
      },
      "source": [
        "x"
      ],
      "execution_count": 11,
      "outputs": [
        {
          "output_type": "execute_result",
          "data": {
            "text/plain": [
              "tensor([[1., 1.],\n",
              "        [1., 1.]])"
            ]
          },
          "metadata": {
            "tags": []
          },
          "execution_count": 11
        }
      ]
    },
    {
      "cell_type": "code",
      "metadata": {
        "colab": {
          "base_uri": "https://localhost:8080/"
        },
        "id": "RDXN2tMiNi3e",
        "outputId": "1f2200ce-ac03-49e5-8870-d5581c36cfe7"
      },
      "source": [
        "x.dtype"
      ],
      "execution_count": 12,
      "outputs": [
        {
          "output_type": "execute_result",
          "data": {
            "text/plain": [
              "torch.float32"
            ]
          },
          "metadata": {
            "tags": []
          },
          "execution_count": 12
        }
      ]
    },
    {
      "cell_type": "code",
      "metadata": {
        "id": "nf79Dh5mNlYE"
      },
      "source": [
        "x = torch.ones(2, 2, dtype = torch.int)"
      ],
      "execution_count": 13,
      "outputs": []
    },
    {
      "cell_type": "code",
      "metadata": {
        "colab": {
          "base_uri": "https://localhost:8080/"
        },
        "id": "5mEMIULhNpxl",
        "outputId": "950a5296-cd8b-4d12-f203-9dcd54b251f4"
      },
      "source": [
        "x"
      ],
      "execution_count": 14,
      "outputs": [
        {
          "output_type": "execute_result",
          "data": {
            "text/plain": [
              "tensor([[1, 1],\n",
              "        [1, 1]], dtype=torch.int32)"
            ]
          },
          "metadata": {
            "tags": []
          },
          "execution_count": 14
        }
      ]
    },
    {
      "cell_type": "code",
      "metadata": {
        "colab": {
          "base_uri": "https://localhost:8080/"
        },
        "id": "5T5UeONGNqWJ",
        "outputId": "dc99630c-e6e2-4e27-f759-9a1fff837b8a"
      },
      "source": [
        "x.size()"
      ],
      "execution_count": 15,
      "outputs": [
        {
          "output_type": "execute_result",
          "data": {
            "text/plain": [
              "torch.Size([2, 2])"
            ]
          },
          "metadata": {
            "tags": []
          },
          "execution_count": 15
        }
      ]
    },
    {
      "cell_type": "code",
      "metadata": {
        "id": "Rhw50hKcNxqd"
      },
      "source": [
        "x = torch.tensor([2.5, 0.1])"
      ],
      "execution_count": 16,
      "outputs": []
    },
    {
      "cell_type": "code",
      "metadata": {
        "colab": {
          "base_uri": "https://localhost:8080/"
        },
        "id": "vpHToBdDN9Ic",
        "outputId": "53b87751-3f9b-4d09-a771-22cc0269575f"
      },
      "source": [
        "x"
      ],
      "execution_count": 17,
      "outputs": [
        {
          "output_type": "execute_result",
          "data": {
            "text/plain": [
              "tensor([2.5000, 0.1000])"
            ]
          },
          "metadata": {
            "tags": []
          },
          "execution_count": 17
        }
      ]
    },
    {
      "cell_type": "markdown",
      "metadata": {
        "id": "gVmTmPQxN9Yd"
      },
      "source": [
        "## tensor operations"
      ]
    },
    {
      "cell_type": "code",
      "metadata": {
        "id": "9VEqhdUnOBiM"
      },
      "source": [
        "x = torch.rand(2, 2)\n",
        "y = torch.rand(2, 2)"
      ],
      "execution_count": 18,
      "outputs": []
    },
    {
      "cell_type": "code",
      "metadata": {
        "id": "fl_rFGntOEOF"
      },
      "source": [
        "z = x + y"
      ],
      "execution_count": 19,
      "outputs": []
    },
    {
      "cell_type": "code",
      "metadata": {
        "colab": {
          "base_uri": "https://localhost:8080/"
        },
        "id": "M1uwtLVdOFSk",
        "outputId": "824ec18c-34ee-4034-cfc2-cb6b454887bc"
      },
      "source": [
        "z"
      ],
      "execution_count": 20,
      "outputs": [
        {
          "output_type": "execute_result",
          "data": {
            "text/plain": [
              "tensor([[1.0190, 0.2455],\n",
              "        [1.3606, 0.6505]])"
            ]
          },
          "metadata": {
            "tags": []
          },
          "execution_count": 20
        }
      ]
    },
    {
      "cell_type": "code",
      "metadata": {
        "id": "cX3urB5AOFtM"
      },
      "source": [
        "z = torch.add(x, y)"
      ],
      "execution_count": 21,
      "outputs": []
    },
    {
      "cell_type": "code",
      "metadata": {
        "colab": {
          "base_uri": "https://localhost:8080/"
        },
        "id": "ws9_ixQeOMFc",
        "outputId": "fe92113e-62b5-4deb-af33-78361dd048fc"
      },
      "source": [
        "z"
      ],
      "execution_count": 22,
      "outputs": [
        {
          "output_type": "execute_result",
          "data": {
            "text/plain": [
              "tensor([[1.0190, 0.2455],\n",
              "        [1.3606, 0.6505]])"
            ]
          },
          "metadata": {
            "tags": []
          },
          "execution_count": 22
        }
      ]
    },
    {
      "cell_type": "code",
      "metadata": {
        "colab": {
          "base_uri": "https://localhost:8080/"
        },
        "id": "XuiuUYLZOMWO",
        "outputId": "bd89eb71-a795-48e0-ed66-ecea824f72db"
      },
      "source": [
        "y.add_(x) # underscore: in-place operations"
      ],
      "execution_count": 23,
      "outputs": [
        {
          "output_type": "execute_result",
          "data": {
            "text/plain": [
              "tensor([[1.0190, 0.2455],\n",
              "        [1.3606, 0.6505]])"
            ]
          },
          "metadata": {
            "tags": []
          },
          "execution_count": 23
        }
      ]
    },
    {
      "cell_type": "code",
      "metadata": {
        "id": "iPYApO3DOS-0"
      },
      "source": [
        "z = x - y"
      ],
      "execution_count": 24,
      "outputs": []
    },
    {
      "cell_type": "code",
      "metadata": {
        "colab": {
          "base_uri": "https://localhost:8080/"
        },
        "id": "IaYs0120OWsc",
        "outputId": "067d8bf7-9046-444a-e175-f29b61ba7741"
      },
      "source": [
        "z"
      ],
      "execution_count": 25,
      "outputs": [
        {
          "output_type": "execute_result",
          "data": {
            "text/plain": [
              "tensor([[-0.9604, -0.1647],\n",
              "        [-0.4304, -0.1031]])"
            ]
          },
          "metadata": {
            "tags": []
          },
          "execution_count": 25
        }
      ]
    },
    {
      "cell_type": "code",
      "metadata": {
        "id": "Ed6veJ2pOXFr"
      },
      "source": [
        "z = torch.sub(x, y)"
      ],
      "execution_count": 26,
      "outputs": []
    },
    {
      "cell_type": "code",
      "metadata": {
        "colab": {
          "base_uri": "https://localhost:8080/"
        },
        "id": "Iwv7CknMOZlU",
        "outputId": "73b1c81a-db53-44ea-d1af-1fb07b9cdd29"
      },
      "source": [
        "z"
      ],
      "execution_count": 27,
      "outputs": [
        {
          "output_type": "execute_result",
          "data": {
            "text/plain": [
              "tensor([[-0.9604, -0.1647],\n",
              "        [-0.4304, -0.1031]])"
            ]
          },
          "metadata": {
            "tags": []
          },
          "execution_count": 27
        }
      ]
    },
    {
      "cell_type": "code",
      "metadata": {
        "id": "j_VxPa3wOaI2"
      },
      "source": [
        "z = torch.mul(x, y)"
      ],
      "execution_count": 28,
      "outputs": []
    },
    {
      "cell_type": "code",
      "metadata": {
        "colab": {
          "base_uri": "https://localhost:8080/"
        },
        "id": "pnI_YJAtOdsu",
        "outputId": "472832d8-3f68-40cb-c332-f219588680fd"
      },
      "source": [
        "z"
      ],
      "execution_count": 29,
      "outputs": [
        {
          "output_type": "execute_result",
          "data": {
            "text/plain": [
              "tensor([[0.0597, 0.0198],\n",
              "        [1.2656, 0.3561]])"
            ]
          },
          "metadata": {
            "tags": []
          },
          "execution_count": 29
        }
      ]
    },
    {
      "cell_type": "code",
      "metadata": {
        "colab": {
          "base_uri": "https://localhost:8080/"
        },
        "id": "1zSvXanqOeZ9",
        "outputId": "78eba09c-d1a4-4571-ea20-fb83c2ff1d1c"
      },
      "source": [
        "y.mul_(x)"
      ],
      "execution_count": 30,
      "outputs": [
        {
          "output_type": "execute_result",
          "data": {
            "text/plain": [
              "tensor([[0.0597, 0.0198],\n",
              "        [1.2656, 0.3561]])"
            ]
          },
          "metadata": {
            "tags": []
          },
          "execution_count": 30
        }
      ]
    },
    {
      "cell_type": "code",
      "metadata": {
        "id": "9qwXchegOgQu"
      },
      "source": [
        "x = torch.rand(5, 3)"
      ],
      "execution_count": 31,
      "outputs": []
    },
    {
      "cell_type": "code",
      "metadata": {
        "colab": {
          "base_uri": "https://localhost:8080/"
        },
        "id": "O87kzRA1Onz0",
        "outputId": "0e8ebb17-1893-4e4f-e9d7-4f2c49a4d6e8"
      },
      "source": [
        "x"
      ],
      "execution_count": 32,
      "outputs": [
        {
          "output_type": "execute_result",
          "data": {
            "text/plain": [
              "tensor([[0.4298, 0.8248, 0.3611],\n",
              "        [0.4357, 0.8794, 0.7727],\n",
              "        [0.1147, 0.8737, 0.7540],\n",
              "        [0.7448, 0.6446, 0.6607],\n",
              "        [0.7955, 0.1254, 0.6026]])"
            ]
          },
          "metadata": {
            "tags": []
          },
          "execution_count": 32
        }
      ]
    },
    {
      "cell_type": "code",
      "metadata": {
        "colab": {
          "base_uri": "https://localhost:8080/"
        },
        "id": "4IxVloJlOoaY",
        "outputId": "425cd10d-b49c-4453-ccfc-588ef6a9993a"
      },
      "source": [
        "x[:, 0]"
      ],
      "execution_count": 33,
      "outputs": [
        {
          "output_type": "execute_result",
          "data": {
            "text/plain": [
              "tensor([0.4298, 0.4357, 0.1147, 0.7448, 0.7955])"
            ]
          },
          "metadata": {
            "tags": []
          },
          "execution_count": 33
        }
      ]
    },
    {
      "cell_type": "code",
      "metadata": {
        "colab": {
          "base_uri": "https://localhost:8080/"
        },
        "id": "uuFe_k7gOwBl",
        "outputId": "b70a89a4-739e-475a-f9b4-a3713f6ac9d1"
      },
      "source": [
        " x[1, 1]"
      ],
      "execution_count": 34,
      "outputs": [
        {
          "output_type": "execute_result",
          "data": {
            "text/plain": [
              "tensor(0.8794)"
            ]
          },
          "metadata": {
            "tags": []
          },
          "execution_count": 34
        }
      ]
    },
    {
      "cell_type": "code",
      "metadata": {
        "colab": {
          "base_uri": "https://localhost:8080/"
        },
        "id": "eGhd9aBFRAkA",
        "outputId": "8330f7b3-85c8-474d-942f-ad0d9d6abd32"
      },
      "source": [
        "x[1, 1].item()"
      ],
      "execution_count": 35,
      "outputs": [
        {
          "output_type": "execute_result",
          "data": {
            "text/plain": [
              "0.8794028162956238"
            ]
          },
          "metadata": {
            "tags": []
          },
          "execution_count": 35
        }
      ]
    },
    {
      "cell_type": "markdown",
      "metadata": {
        "id": "J5gxXg_cRCNt"
      },
      "source": [
        "## reshaping"
      ]
    },
    {
      "cell_type": "code",
      "metadata": {
        "id": "IsAUpaMiREkW"
      },
      "source": [
        "x = torch.rand(4, 4)"
      ],
      "execution_count": 36,
      "outputs": []
    },
    {
      "cell_type": "code",
      "metadata": {
        "colab": {
          "base_uri": "https://localhost:8080/"
        },
        "id": "eqNfXAJVRF7k",
        "outputId": "2c3dc63b-be1c-4161-bf6b-62102b659869"
      },
      "source": [
        "x"
      ],
      "execution_count": 37,
      "outputs": [
        {
          "output_type": "execute_result",
          "data": {
            "text/plain": [
              "tensor([[0.4983, 0.2641, 0.2569, 0.2868],\n",
              "        [0.5217, 0.5723, 0.7867, 0.0479],\n",
              "        [0.3284, 0.7114, 0.0186, 0.2879],\n",
              "        [0.1354, 0.6177, 0.5068, 0.0235]])"
            ]
          },
          "metadata": {
            "tags": []
          },
          "execution_count": 37
        }
      ]
    },
    {
      "cell_type": "code",
      "metadata": {
        "id": "-sQ6kzZDRGOU"
      },
      "source": [
        "y = x.view(16)"
      ],
      "execution_count": 38,
      "outputs": []
    },
    {
      "cell_type": "code",
      "metadata": {
        "colab": {
          "base_uri": "https://localhost:8080/"
        },
        "id": "TY7LY_weRIaU",
        "outputId": "9c94acc4-0839-449e-9154-b7ef178810be"
      },
      "source": [
        "y"
      ],
      "execution_count": 39,
      "outputs": [
        {
          "output_type": "execute_result",
          "data": {
            "text/plain": [
              "tensor([0.4983, 0.2641, 0.2569, 0.2868, 0.5217, 0.5723, 0.7867, 0.0479, 0.3284,\n",
              "        0.7114, 0.0186, 0.2879, 0.1354, 0.6177, 0.5068, 0.0235])"
            ]
          },
          "metadata": {
            "tags": []
          },
          "execution_count": 39
        }
      ]
    },
    {
      "cell_type": "markdown",
      "metadata": {
        "id": "EbTO_OvGRoKD"
      },
      "source": [
        "## numpy"
      ]
    },
    {
      "cell_type": "code",
      "metadata": {
        "id": "RqkBMHQvRr50"
      },
      "source": [
        "import numpy as np"
      ],
      "execution_count": 42,
      "outputs": []
    },
    {
      "cell_type": "code",
      "metadata": {
        "id": "1K7EE6c3RJIG"
      },
      "source": [
        "a = torch.ones(5)"
      ],
      "execution_count": 48,
      "outputs": []
    },
    {
      "cell_type": "code",
      "metadata": {
        "colab": {
          "base_uri": "https://localhost:8080/"
        },
        "id": "Ebp6x5OERijN",
        "outputId": "f349cafd-1aeb-46e9-9822-88867446ee1e"
      },
      "source": [
        "a"
      ],
      "execution_count": 49,
      "outputs": [
        {
          "output_type": "execute_result",
          "data": {
            "text/plain": [
              "tensor([1., 1., 1., 1., 1.])"
            ]
          },
          "metadata": {
            "tags": []
          },
          "execution_count": 49
        }
      ]
    },
    {
      "cell_type": "code",
      "metadata": {
        "id": "vbu4qwVFRjQm"
      },
      "source": [
        "b = a.numpy()"
      ],
      "execution_count": 50,
      "outputs": []
    },
    {
      "cell_type": "code",
      "metadata": {
        "colab": {
          "base_uri": "https://localhost:8080/"
        },
        "id": "d4WXVXi6RvlM",
        "outputId": "e75558da-7d5e-4790-8d5b-8841ec3c47ae"
      },
      "source": [
        "a.add_(1)"
      ],
      "execution_count": 51,
      "outputs": [
        {
          "output_type": "execute_result",
          "data": {
            "text/plain": [
              "tensor([2., 2., 2., 2., 2.])"
            ]
          },
          "metadata": {
            "tags": []
          },
          "execution_count": 51
        }
      ]
    },
    {
      "cell_type": "code",
      "metadata": {
        "colab": {
          "base_uri": "https://localhost:8080/"
        },
        "id": "QrypuAvfR5TL",
        "outputId": "2de001ad-75f8-4e58-93f7-d41f112c121e"
      },
      "source": [
        "b # a, b shares same memory!"
      ],
      "execution_count": 53,
      "outputs": [
        {
          "output_type": "execute_result",
          "data": {
            "text/plain": [
              "array([2., 2., 2., 2., 2.], dtype=float32)"
            ]
          },
          "metadata": {
            "tags": []
          },
          "execution_count": 53
        }
      ]
    },
    {
      "cell_type": "code",
      "metadata": {
        "id": "6HqANCLrR-ht"
      },
      "source": [
        "a = np.ones(5)"
      ],
      "execution_count": 54,
      "outputs": []
    },
    {
      "cell_type": "code",
      "metadata": {
        "id": "9vWdNhBASDH0"
      },
      "source": [
        "b = torch.from_numpy(a)"
      ],
      "execution_count": 55,
      "outputs": []
    },
    {
      "cell_type": "code",
      "metadata": {
        "colab": {
          "base_uri": "https://localhost:8080/"
        },
        "id": "F99qLIp2SF9-",
        "outputId": "b2275649-4711-476d-c40d-55e792918ab1"
      },
      "source": [
        "b"
      ],
      "execution_count": 56,
      "outputs": [
        {
          "output_type": "execute_result",
          "data": {
            "text/plain": [
              "tensor([1., 1., 1., 1., 1.], dtype=torch.float64)"
            ]
          },
          "metadata": {
            "tags": []
          },
          "execution_count": 56
        }
      ]
    },
    {
      "cell_type": "code",
      "metadata": {
        "id": "7DyIJ-AJSGdV"
      },
      "source": [
        "a += 1"
      ],
      "execution_count": 57,
      "outputs": []
    },
    {
      "cell_type": "code",
      "metadata": {
        "colab": {
          "base_uri": "https://localhost:8080/"
        },
        "id": "W4olbpDBSNdk",
        "outputId": "ff47145b-82a2-462d-f108-671dc66e5d0d"
      },
      "source": [
        "a"
      ],
      "execution_count": 58,
      "outputs": [
        {
          "output_type": "execute_result",
          "data": {
            "text/plain": [
              "array([2., 2., 2., 2., 2.])"
            ]
          },
          "metadata": {
            "tags": []
          },
          "execution_count": 58
        }
      ]
    },
    {
      "cell_type": "markdown",
      "metadata": {
        "id": "6-85RBqYSnqy"
      },
      "source": [
        "## device"
      ]
    },
    {
      "cell_type": "code",
      "metadata": {
        "colab": {
          "base_uri": "https://localhost:8080/"
        },
        "id": "IzCs7wCSSN0k",
        "outputId": "80c5b3a7-52ef-45fd-b79b-fca49751cb07"
      },
      "source": [
        "if torch.cuda.is_available():\n",
        "  device = torch.device(\"cuda\")\n",
        "  x = torch.ones(5, device = device)\n",
        "  y = torch.onse(5)\n",
        "  y = y.to(device)\n",
        "  z = x + y # on gpu\n",
        "  # z.numpy() # numpy handles only cpu\n",
        "  z = z.to(\"cpu\") # on cpu again\n",
        "else:\n",
        "  print(\"cuda not available\")"
      ],
      "execution_count": 60,
      "outputs": [
        {
          "output_type": "stream",
          "text": [
            "cuda not available\n"
          ],
          "name": "stdout"
        }
      ]
    },
    {
      "cell_type": "code",
      "metadata": {
        "id": "VHkCc8iOTBfY"
      },
      "source": [
        "x = torch.ones(5, requires_grad=True)"
      ],
      "execution_count": 61,
      "outputs": []
    },
    {
      "cell_type": "code",
      "metadata": {
        "colab": {
          "base_uri": "https://localhost:8080/"
        },
        "id": "PgjOa1_VTPgc",
        "outputId": "9f90cca9-b37b-4ffe-fa91-ab24ccce2617"
      },
      "source": [
        "x"
      ],
      "execution_count": 62,
      "outputs": [
        {
          "output_type": "execute_result",
          "data": {
            "text/plain": [
              "tensor([1., 1., 1., 1., 1.], requires_grad=True)"
            ]
          },
          "metadata": {
            "tags": []
          },
          "execution_count": 62
        }
      ]
    }
  ]
}