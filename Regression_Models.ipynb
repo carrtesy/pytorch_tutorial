{
  "nbformat": 4,
  "nbformat_minor": 0,
  "metadata": {
    "colab": {
      "name": "Regression Models.ipynb",
      "provenance": [],
      "authorship_tag": "ABX9TyMNfSE260nDusXrQeQg/3EX",
      "include_colab_link": true
    },
    "kernelspec": {
      "name": "python3",
      "display_name": "Python 3"
    },
    "language_info": {
      "name": "python"
    }
  },
  "cells": [
    {
      "cell_type": "markdown",
      "metadata": {
        "id": "view-in-github",
        "colab_type": "text"
      },
      "source": [
        "<a href=\"https://colab.research.google.com/github/dongminkim0220/pytorch_tutorial/blob/master/Regression_Models.ipynb\" target=\"_parent\"><img src=\"https://colab.research.google.com/assets/colab-badge.svg\" alt=\"Open In Colab\"/></a>"
      ]
    },
    {
      "cell_type": "markdown",
      "metadata": {
        "id": "XUjjmxgpAWs1"
      },
      "source": [
        "#Regression Models"
      ]
    },
    {
      "cell_type": "markdown",
      "metadata": {
        "id": "6oMGK30JJPEX"
      },
      "source": [
        "PyTorch Tutorial 07 - Linear Regression\n",
        "https://www.youtube.com/watch?v=YAJ5XBwlN4o&list=PLqnslRFeH2UrcDBWF5mfPGpqQDSta6VK4&index=7\n",
        "\n",
        "PyTorch Tutorial 08 - Logistic Regression\n",
        "\n",
        "https://www.youtube.com/watch?v=OGpQxIkR4ao&list=PLqnslRFeH2UrcDBWF5mfPGpqQDSta6VK4&index=8"
      ]
    },
    {
      "cell_type": "markdown",
      "metadata": {
        "id": "j-a9Hk2nAbkC"
      },
      "source": [
        "## Linear Regression"
      ]
    },
    {
      "cell_type": "code",
      "metadata": {
        "id": "qUQ9BMSVAjGS"
      },
      "source": [
        "import torch\n",
        "import torch.nn as nn\n",
        "import numpy as np\n",
        "from sklearn import datasets\n",
        "import matplotlib.pyplot as plt"
      ],
      "execution_count": 1,
      "outputs": []
    },
    {
      "cell_type": "markdown",
      "metadata": {
        "id": "a_JW35m1A69R"
      },
      "source": [
        "0. prepare data"
      ]
    },
    {
      "cell_type": "code",
      "metadata": {
        "id": "UfsNeY88A_qZ"
      },
      "source": [
        "X_numpy, y_numpy = datasets.make_regression(n_samples = 100, n_features = 1, noise = 20, random_state = 1)"
      ],
      "execution_count": 4,
      "outputs": []
    },
    {
      "cell_type": "code",
      "metadata": {
        "id": "NtShDXC-BNUb"
      },
      "source": [
        "X = torch.from_numpy(X_numpy.astype(np.float32))\n",
        "y = torch.from_numpy(y_numpy.astype(np.float32))"
      ],
      "execution_count": 5,
      "outputs": []
    },
    {
      "cell_type": "code",
      "metadata": {
        "colab": {
          "base_uri": "https://localhost:8080/"
        },
        "id": "CXgkDVMJB8Us",
        "outputId": "2fc429d4-21e6-478a-add0-7ca517187b7d"
      },
      "source": [
        "X[0]"
      ],
      "execution_count": 11,
      "outputs": [
        {
          "output_type": "execute_result",
          "data": {
            "text/plain": [
              "tensor([-0.6118])"
            ]
          },
          "metadata": {
            "tags": []
          },
          "execution_count": 11
        }
      ]
    },
    {
      "cell_type": "code",
      "metadata": {
        "colab": {
          "base_uri": "https://localhost:8080/"
        },
        "id": "dYmkdfIAB-0p",
        "outputId": "87eb642e-fac7-4782-849c-216b1671acd4"
      },
      "source": [
        "y[0]"
      ],
      "execution_count": 12,
      "outputs": [
        {
          "output_type": "execute_result",
          "data": {
            "text/plain": [
              "tensor([-55.5386])"
            ]
          },
          "metadata": {
            "tags": []
          },
          "execution_count": 12
        }
      ]
    },
    {
      "cell_type": "code",
      "metadata": {
        "colab": {
          "base_uri": "https://localhost:8080/"
        },
        "id": "Ws--s1BoBhrJ",
        "outputId": "358e54f2-49f7-4893-f89f-6c32ba34ded5"
      },
      "source": [
        "X.shape"
      ],
      "execution_count": 6,
      "outputs": [
        {
          "output_type": "execute_result",
          "data": {
            "text/plain": [
              "torch.Size([100, 1])"
            ]
          },
          "metadata": {
            "tags": []
          },
          "execution_count": 6
        }
      ]
    },
    {
      "cell_type": "code",
      "metadata": {
        "colab": {
          "base_uri": "https://localhost:8080/"
        },
        "id": "VBAAuXNJBj7J",
        "outputId": "223a4d50-6e0d-4358-8ce6-8c36a4dc4c9e"
      },
      "source": [
        "y.shape"
      ],
      "execution_count": 7,
      "outputs": [
        {
          "output_type": "execute_result",
          "data": {
            "text/plain": [
              "torch.Size([100])"
            ]
          },
          "metadata": {
            "tags": []
          },
          "execution_count": 7
        }
      ]
    },
    {
      "cell_type": "code",
      "metadata": {
        "id": "qZkx4N47BfEy"
      },
      "source": [
        "y = y.view(y.shape[0], 1)"
      ],
      "execution_count": 8,
      "outputs": []
    },
    {
      "cell_type": "code",
      "metadata": {
        "colab": {
          "base_uri": "https://localhost:8080/"
        },
        "id": "-MLwTLPUBn8A",
        "outputId": "d17945fe-5ce0-45b8-ddcb-98b059581b6f"
      },
      "source": [
        "y.shape"
      ],
      "execution_count": 9,
      "outputs": [
        {
          "output_type": "execute_result",
          "data": {
            "text/plain": [
              "torch.Size([100, 1])"
            ]
          },
          "metadata": {
            "tags": []
          },
          "execution_count": 9
        }
      ]
    },
    {
      "cell_type": "code",
      "metadata": {
        "id": "4RA9isl4Bq4q"
      },
      "source": [
        "n_samples, n_features = X.shape"
      ],
      "execution_count": 10,
      "outputs": []
    },
    {
      "cell_type": "markdown",
      "metadata": {
        "id": "6ZCxufFZAyVt"
      },
      "source": [
        "1. model"
      ]
    },
    {
      "cell_type": "code",
      "metadata": {
        "id": "h_kPBzBhBwub"
      },
      "source": [
        "input_size = n_features\n",
        "output_size = 1\n",
        "model = nn.Linear(input_size, output_size)"
      ],
      "execution_count": 17,
      "outputs": []
    },
    {
      "cell_type": "markdown",
      "metadata": {
        "id": "SWBPvetuA1y6"
      },
      "source": [
        "2. loss and optimizer"
      ]
    },
    {
      "cell_type": "code",
      "metadata": {
        "id": "6Es4BvPrCMPj"
      },
      "source": [
        "learning_rate = 0.01"
      ],
      "execution_count": 18,
      "outputs": []
    },
    {
      "cell_type": "code",
      "metadata": {
        "id": "m1fNK8lbCE7p"
      },
      "source": [
        "criterion = nn.MSELoss()\n",
        "optimizer = torch.optim.SGD(model.parameters(), lr = learning_rate)"
      ],
      "execution_count": 19,
      "outputs": []
    },
    {
      "cell_type": "markdown",
      "metadata": {
        "id": "LlR3aWBFA32R"
      },
      "source": [
        "3. training loop"
      ]
    },
    {
      "cell_type": "code",
      "metadata": {
        "colab": {
          "base_uri": "https://localhost:8080/",
          "height": 460
        },
        "id": "WmoaoxWAA5-h",
        "outputId": "a13cd6d5-f34e-47f7-ee30-8468c7647fda"
      },
      "source": [
        "num_epochs = 100\n",
        "for epoch in range(num_epochs):\n",
        "  # forward, loss\n",
        "  y_predicted = model(X)\n",
        "  loss = criterion(y_predicted, y)\n",
        "\n",
        "  # backward\n",
        "  loss.backward()\n",
        "  \n",
        "  # update\n",
        "  optimizer.step()\n",
        "  optimizer.zero_grad()\n",
        "\n",
        "  if (epoch + 1) % 10 == 0:\n",
        "    print(f\"epoch: {epoch+1}, loss = {loss.item():.4f}\")\n",
        "\n",
        "\n",
        "predicted = model(X).detach().numpy()\n",
        "plt.plot(X_numpy, y_numpy, \"ro\")\n",
        "plt.plot(X_numpy, predicted, \"b\")"
      ],
      "execution_count": 20,
      "outputs": [
        {
          "output_type": "stream",
          "text": [
            "epoch: 10, loss = 4308.0000\n",
            "epoch: 20, loss = 3215.6621\n",
            "epoch: 30, loss = 2425.3384\n",
            "epoch: 40, loss = 1852.9142\n",
            "epoch: 50, loss = 1437.9014\n",
            "epoch: 60, loss = 1136.7373\n",
            "epoch: 70, loss = 918.0051\n",
            "epoch: 80, loss = 759.0181\n",
            "epoch: 90, loss = 643.3748\n",
            "epoch: 100, loss = 559.2029\n"
          ],
          "name": "stdout"
        },
        {
          "output_type": "execute_result",
          "data": {
            "text/plain": [
              "[<matplotlib.lines.Line2D at 0x7fc9b01b1d90>]"
            ]
          },
          "metadata": {
            "tags": []
          },
          "execution_count": 20
        },
        {
          "output_type": "display_data",
          "data": {
            "image/png": "[encoded data removed]",
            "text/plain": [
              "<Figure size 432x288 with 1 Axes>"
            ]
          },
          "metadata": {
            "tags": [],
            "needs_background": "light"
          }
        }
      ]
    },
    {
      "cell_type": "markdown",
      "metadata": {
        "id": "-T5C_I1cDpWN"
      },
      "source": [
        "## Logistic Regression"
      ]
    },
    {
      "cell_type": "code",
      "metadata": {
        "id": "m33J5Uh0Dteg"
      },
      "source": [
        "from sklearn.preprocessing import StandardScaler\n",
        "from sklearn.model_selection import train_test_split"
      ],
      "execution_count": 21,
      "outputs": []
    },
    {
      "cell_type": "markdown",
      "metadata": {
        "id": "AOzdCVXJEJpN"
      },
      "source": [
        "0. prepare data"
      ]
    },
    {
      "cell_type": "code",
      "metadata": {
        "id": "61yZ72rWEPtx"
      },
      "source": [
        "bc = datasets.load_breast_cancer()\n",
        "X, y = bc.data, bc.target"
      ],
      "execution_count": 22,
      "outputs": []
    },
    {
      "cell_type": "code",
      "metadata": {
        "colab": {
          "base_uri": "https://localhost:8080/"
        },
        "id": "ZRsGN8pZEWdh",
        "outputId": "e65a8e36-84cb-43c6-c3c5-f4af0ecb0dc6"
      },
      "source": [
        "X[0]"
      ],
      "execution_count": 23,
      "outputs": [
        {
          "output_type": "execute_result",
          "data": {
            "text/plain": [
              "array([1.799e+01, 1.038e+01, 1.228e+02, 1.001e+03, 1.184e-01, 2.776e-01,\n",
              "       3.001e-01, 1.471e-01, 2.419e-01, 7.871e-02, 1.095e+00, 9.053e-01,\n",
              "       8.589e+00, 1.534e+02, 6.399e-03, 4.904e-02, 5.373e-02, 1.587e-02,\n",
              "       3.003e-02, 6.193e-03, 2.538e+01, 1.733e+01, 1.846e+02, 2.019e+03,\n",
              "       1.622e-01, 6.656e-01, 7.119e-01, 2.654e-01, 4.601e-01, 1.189e-01])"
            ]
          },
          "metadata": {
            "tags": []
          },
          "execution_count": 23
        }
      ]
    },
    {
      "cell_type": "code",
      "metadata": {
        "colab": {
          "base_uri": "https://localhost:8080/"
        },
        "id": "-LNvDvYNEXc6",
        "outputId": "49e6a87d-c604-4624-de53-c40218d488c2"
      },
      "source": [
        "y[0]"
      ],
      "execution_count": 24,
      "outputs": [
        {
          "output_type": "execute_result",
          "data": {
            "text/plain": [
              "0"
            ]
          },
          "metadata": {
            "tags": []
          },
          "execution_count": 24
        }
      ]
    },
    {
      "cell_type": "code",
      "metadata": {
        "colab": {
          "base_uri": "https://localhost:8080/"
        },
        "id": "Q3w9wp5UEYux",
        "outputId": "67fc4661-9c62-494b-db93-3547452dd447"
      },
      "source": [
        "X.shape"
      ],
      "execution_count": 25,
      "outputs": [
        {
          "output_type": "execute_result",
          "data": {
            "text/plain": [
              "(569, 30)"
            ]
          },
          "metadata": {
            "tags": []
          },
          "execution_count": 25
        }
      ]
    },
    {
      "cell_type": "code",
      "metadata": {
        "colab": {
          "base_uri": "https://localhost:8080/"
        },
        "id": "TLHyIoWkEbYA",
        "outputId": "49f4eb5f-eb12-4e70-d01e-ad5018153526"
      },
      "source": [
        "y.shape"
      ],
      "execution_count": 26,
      "outputs": [
        {
          "output_type": "execute_result",
          "data": {
            "text/plain": [
              "(569,)"
            ]
          },
          "metadata": {
            "tags": []
          },
          "execution_count": 26
        }
      ]
    },
    {
      "cell_type": "code",
      "metadata": {
        "id": "zC7lYpgAEc0a"
      },
      "source": [
        "n_sample, n_features = X.shape"
      ],
      "execution_count": 27,
      "outputs": []
    },
    {
      "cell_type": "code",
      "metadata": {
        "id": "VoVS8O1LEf3R"
      },
      "source": [
        "X_train, X_test, y_train, y_test = train_test_split(X, y, test_size = 0.2, random_state = 1234)"
      ],
      "execution_count": 47,
      "outputs": []
    },
    {
      "cell_type": "markdown",
      "metadata": {
        "id": "eXJPZfFlErOS"
      },
      "source": [
        "scale"
      ]
    },
    {
      "cell_type": "code",
      "metadata": {
        "id": "nhyFRtfrEs9i"
      },
      "source": [
        "sc = StandardScaler() # zero mean, and unit variance"
      ],
      "execution_count": 48,
      "outputs": []
    },
    {
      "cell_type": "code",
      "metadata": {
        "id": "fHyx6ZllExXb"
      },
      "source": [
        "X_train = sc.fit_transform(X_train)\n",
        "X_test = sc.transform(X_test)"
      ],
      "execution_count": 49,
      "outputs": []
    },
    {
      "cell_type": "code",
      "metadata": {
        "id": "EBH1DCGVE8mL"
      },
      "source": [
        "X_train = torch.from_numpy(X_train.astype(np.float32))\n",
        "X_test = torch.from_numpy(X_test.astype(np.float32))\n",
        "y_train = torch.from_numpy(y_train.astype(np.float32))\n",
        "y_test = torch.from_numpy(y_test.astype(np.float32))"
      ],
      "execution_count": 50,
      "outputs": []
    },
    {
      "cell_type": "code",
      "metadata": {
        "id": "zW0h0dLXFRay"
      },
      "source": [
        "y_train = y_train.view(y_train.shape[0], 1)\n",
        "y_test = y_test.view(y_test.shape[0], 1)"
      ],
      "execution_count": 51,
      "outputs": []
    },
    {
      "cell_type": "markdown",
      "metadata": {
        "id": "Fx2SXKaUFWgj"
      },
      "source": [
        "1. Model: f = wx + b, sigmoid at the end"
      ]
    },
    {
      "cell_type": "code",
      "metadata": {
        "id": "xNnNHguOFtoZ"
      },
      "source": [
        "class LogisticRegression(nn.Module):\n",
        "  def __init__(self, n_input_features):\n",
        "    super(LogisticRegression, self).__init__()\n",
        "    self.linear = nn.Linear(n_input_features, 1)\n",
        "\n",
        "  def forward(self, x):\n",
        "    y_predicted = torch.sigmoid(self.linear(x))\n",
        "    return y_predicted"
      ],
      "execution_count": 52,
      "outputs": []
    },
    {
      "cell_type": "code",
      "metadata": {
        "id": "43XIkS59GLtU"
      },
      "source": [
        "model = LogisticRegression(n_features)"
      ],
      "execution_count": 53,
      "outputs": []
    },
    {
      "cell_type": "markdown",
      "metadata": {
        "id": "pjqu3eOMGTax"
      },
      "source": [
        "2. loss and optimizer"
      ]
    },
    {
      "cell_type": "code",
      "metadata": {
        "id": "2M8VQRsZGWFx"
      },
      "source": [
        "learning_rate = 0.01\n",
        "criterion = nn.BCELoss()\n",
        "optimizer = torch.optim.SGD(model.parameters(), lr = learning_rate)"
      ],
      "execution_count": 54,
      "outputs": []
    },
    {
      "cell_type": "markdown",
      "metadata": {
        "id": "GUA5HcCrGj7j"
      },
      "source": [
        "3. training loop"
      ]
    },
    {
      "cell_type": "code",
      "metadata": {
        "id": "uha_eci3GmuL"
      },
      "source": [
        "num_epochs = 100"
      ],
      "execution_count": 55,
      "outputs": []
    },
    {
      "cell_type": "code",
      "metadata": {
        "colab": {
          "base_uri": "https://localhost:8080/"
        },
        "id": "jSrSEr35GowS",
        "outputId": "536662cb-6157-4cac-e191-4691c2c02625"
      },
      "source": [
        "for epoch in range(1, num_epochs+1):\n",
        "  # forward, loss\n",
        "  y_predicted = model(X_train)\n",
        "  loss = criterion(y_predicted, y_train)\n",
        "\n",
        "  # backward\n",
        "  loss.backward()\n",
        "\n",
        "  # updates\n",
        "  optimizer.step()\n",
        "\n",
        "  # zero grad\n",
        "  optimizer.zero_grad()\n",
        "\n",
        "  if epoch % 10 == 0:\n",
        "    print(f\"epoch: {epoch}, loss: {loss.item():.4f}\")\n",
        "\n",
        "# eval\n",
        "with torch.no_grad():\n",
        "  y_predicted = model(X_test)\n",
        "  y_predicted_cls = y_predicted.round()\n",
        "  acc = y_predicted_cls.eq(y_test).sum() / float(y_test.shape[0])\n",
        "  print(f\"accuracy = {acc:.4f}\")"
      ],
      "execution_count": 59,
      "outputs": [
        {
          "output_type": "stream",
          "text": [
            "epoch: 10, loss: 0.1403\n",
            "epoch: 20, loss: 0.1384\n",
            "epoch: 30, loss: 0.1366\n",
            "epoch: 40, loss: 0.1348\n",
            "epoch: 50, loss: 0.1331\n",
            "epoch: 60, loss: 0.1315\n",
            "epoch: 70, loss: 0.1300\n",
            "epoch: 80, loss: 0.1285\n",
            "epoch: 90, loss: 0.1271\n",
            "epoch: 100, loss: 0.1257\n",
            "accuracy = 0.9211\n"
          ],
          "name": "stdout"
        }
      ]
    }
  ]
}