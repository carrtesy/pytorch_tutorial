{
  "nbformat": 4,
  "nbformat_minor": 0,
  "metadata": {
    "colab": {
      "name": "Save and Load Models.ipynb",
      "provenance": [],
      "authorship_tag": "ABX9TyMssr5O4+tPIizC8RKFLnp7",
      "include_colab_link": true
    },
    "kernelspec": {
      "name": "python3",
      "display_name": "Python 3"
    },
    "language_info": {
      "name": "python"
    }
  },
  "cells": [
    {
      "cell_type": "markdown",
      "metadata": {
        "id": "view-in-github",
        "colab_type": "text"
      },
      "source": [
        "<a href=\"https://colab.research.google.com/github/dongminkim0220/pytorch_tutorial/blob/master/Save_and_Load_Models.ipynb\" target=\"_parent\"><img src=\"https://colab.research.google.com/assets/colab-badge.svg\" alt=\"Open In Colab\"/></a>"
      ]
    },
    {
      "cell_type": "markdown",
      "metadata": {
        "id": "4ZPbdNVuHZ_b"
      },
      "source": [
        "# Save and Load Models"
      ]
    },
    {
      "cell_type": "markdown",
      "metadata": {
        "id": "XqN7WMyoHfH9"
      },
      "source": [
        "PyTorch Tutorial 17 - Saving and Loading Models\n",
        "\n",
        "https://www.youtube.com/watch?v=9L9jEOwRrCg&t=45s"
      ]
    },
    {
      "cell_type": "code",
      "metadata": {
        "id": "nl8nu2itHopa"
      },
      "source": [
        "import torch\n",
        "import torch.nn as nn"
      ],
      "execution_count": 1,
      "outputs": []
    },
    {
      "cell_type": "code",
      "metadata": {
        "id": "fHcAcXu0Ht_5"
      },
      "source": [
        "class Model(nn.Module):\n",
        "    def __init__(self, n_input_features):\n",
        "        super(Model, self).__init__()\n",
        "        self.linear = nn.Linear(n_input_features, 1)\n",
        "\n",
        "    def forward(self, x):\n",
        "        y_pred = torch.sigmoid(self.linear(x))\n",
        "        return y_pred\n",
        "\n",
        "model = Model(n_input_features = 6)\n",
        "FILE = \"simple_model.pth\""
      ],
      "execution_count": 2,
      "outputs": []
    },
    {
      "cell_type": "markdown",
      "metadata": {
        "id": "ZZyHDeP-Hh1_"
      },
      "source": [
        "## Complete Model"
      ]
    },
    {
      "cell_type": "code",
      "metadata": {
        "id": "F-qeM6tNHl8u"
      },
      "source": [
        "torch.save(model, FILE)"
      ],
      "execution_count": 3,
      "outputs": []
    },
    {
      "cell_type": "code",
      "metadata": {
        "colab": {
          "base_uri": "https://localhost:8080/"
        },
        "id": "t_AdI2Z1I08n",
        "outputId": "ff32f28d-23ae-4e0e-864c-c2d159118a3a"
      },
      "source": [
        "model = torch.load(FILE)\n",
        "model.eval()"
      ],
      "execution_count": 4,
      "outputs": [
        {
          "output_type": "execute_result",
          "data": {
            "text/plain": [
              "Model(\n",
              "  (linear): Linear(in_features=6, out_features=1, bias=True)\n",
              ")"
            ]
          },
          "metadata": {
            "tags": []
          },
          "execution_count": 4
        }
      ]
    },
    {
      "cell_type": "code",
      "metadata": {
        "colab": {
          "base_uri": "https://localhost:8080/"
        },
        "id": "0m_zOv6zJFEu",
        "outputId": "fdae5464-3ab1-43a7-b4dd-b684ac11c210"
      },
      "source": [
        "for param in model.parameters():\n",
        "    print(param)"
      ],
      "execution_count": 5,
      "outputs": [
        {
          "output_type": "stream",
          "text": [
            "Parameter containing:\n",
            "tensor([[ 0.2178, -0.0961, -0.2846,  0.2673, -0.1091, -0.2597]],\n",
            "       requires_grad=True)\n",
            "Parameter containing:\n",
            "tensor([0.1104], requires_grad=True)\n"
          ],
          "name": "stdout"
        }
      ]
    },
    {
      "cell_type": "markdown",
      "metadata": {
        "id": "M4AsQ1UCHy1G"
      },
      "source": [
        "## State Dict"
      ]
    },
    {
      "cell_type": "code",
      "metadata": {
        "id": "HN2iVtM_II0U"
      },
      "source": [
        "torch.save(model.state_dict(), FILE)"
      ],
      "execution_count": 6,
      "outputs": []
    },
    {
      "cell_type": "code",
      "metadata": {
        "colab": {
          "base_uri": "https://localhost:8080/"
        },
        "id": "6LML8vWuJVBw",
        "outputId": "49e6c9d2-9288-41fe-c36d-8b356fd98c19"
      },
      "source": [
        "loaded_model = Model(n_input_features = 6)\n",
        "loaded_model.load_state_dict(torch.load(FILE))\n",
        "model.eval()"
      ],
      "execution_count": 7,
      "outputs": [
        {
          "output_type": "execute_result",
          "data": {
            "text/plain": [
              "Model(\n",
              "  (linear): Linear(in_features=6, out_features=1, bias=True)\n",
              ")"
            ]
          },
          "metadata": {
            "tags": []
          },
          "execution_count": 7
        }
      ]
    },
    {
      "cell_type": "code",
      "metadata": {
        "colab": {
          "base_uri": "https://localhost:8080/"
        },
        "id": "oO_3A-M-JoaW",
        "outputId": "e62b5977-c120-472a-e792-1efe24fcbc6e"
      },
      "source": [
        "print(model.state_dict())"
      ],
      "execution_count": 8,
      "outputs": [
        {
          "output_type": "stream",
          "text": [
            "OrderedDict([('linear.weight', tensor([[ 0.2178, -0.0961, -0.2846,  0.2673, -0.1091, -0.2597]])), ('linear.bias', tensor([0.1104]))])\n"
          ],
          "name": "stdout"
        }
      ]
    },
    {
      "cell_type": "markdown",
      "metadata": {
        "id": "JFNYyeJhKuD7"
      },
      "source": [
        "## checkpointing"
      ]
    },
    {
      "cell_type": "code",
      "metadata": {
        "colab": {
          "base_uri": "https://localhost:8080/"
        },
        "id": "8kHpsGp0KJbQ",
        "outputId": "55f70f6b-ec04-44a5-ce8c-70ae2e4878a8"
      },
      "source": [
        "learning_rate = 0.01\n",
        "optimizer = torch.optim.SGD(model.parameters(), lr = learning_rate)\n",
        "print(optimizer.state_dict())"
      ],
      "execution_count": 9,
      "outputs": [
        {
          "output_type": "stream",
          "text": [
            "{'state': {}, 'param_groups': [{'lr': 0.01, 'momentum': 0, 'dampening': 0, 'weight_decay': 0, 'nesterov': False, 'params': [0, 1]}]}\n"
          ],
          "name": "stdout"
        }
      ]
    },
    {
      "cell_type": "code",
      "metadata": {
        "id": "p_pJn1gWKU_F"
      },
      "source": [
        "checkpoint = {\n",
        "    \"epoch\": 90,\n",
        "    \"model_state\": model.state_dict(),\n",
        "    \"optim_state\": optimizer.state_dict(),\n",
        "}"
      ],
      "execution_count": 10,
      "outputs": []
    },
    {
      "cell_type": "code",
      "metadata": {
        "id": "je7RD5nUKmWO"
      },
      "source": [
        "torch.save(checkpoint, \"checkpoint.pth\")"
      ],
      "execution_count": 11,
      "outputs": []
    },
    {
      "cell_type": "code",
      "metadata": {
        "id": "ZqZQjnmYKsDO"
      },
      "source": [
        "loaded_checkpoint = torch.load(\"checkpoint.pth\")"
      ],
      "execution_count": 12,
      "outputs": []
    },
    {
      "cell_type": "code",
      "metadata": {
        "id": "IIqfheleK1fW"
      },
      "source": [
        "epoch = loaded_checkpoint[\"epoch\"]\n",
        "model = Model(n_input_features = 6)\n",
        "optimizer = torch.optim.SGD(model.parameters(), lr = 0)\n",
        "model.load_state_dict(checkpoint[\"model_state\"])\n",
        "optimizer.load_state_dict(checkpoint[\"optim_state\"])"
      ],
      "execution_count": 13,
      "outputs": []
    },
    {
      "cell_type": "code",
      "metadata": {
        "colab": {
          "base_uri": "https://localhost:8080/"
        },
        "id": "WWiv8hAhLUgu",
        "outputId": "e9d31025-1aea-4058-9e5f-022ceefa5733"
      },
      "source": [
        "optimizer.state_dict()"
      ],
      "execution_count": 14,
      "outputs": [
        {
          "output_type": "execute_result",
          "data": {
            "text/plain": [
              "{'param_groups': [{'dampening': 0,\n",
              "   'lr': 0.01,\n",
              "   'momentum': 0,\n",
              "   'nesterov': False,\n",
              "   'params': [0, 1],\n",
              "   'weight_decay': 0}],\n",
              " 'state': {}}"
            ]
          },
          "metadata": {
            "tags": []
          },
          "execution_count": 14
        }
      ]
    }
  ]
}