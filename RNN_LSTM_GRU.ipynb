{
  "nbformat": 4,
  "nbformat_minor": 0,
  "metadata": {
    "colab": {
      "name": "RNN_LSTM_GRU.ipynb",
      "provenance": [],
      "toc_visible": true,
      "authorship_tag": "ABX9TyOfkwq0+Xzg9kcPQpqyA4qm",
      "include_colab_link": true
    },
    "kernelspec": {
      "name": "python3",
      "display_name": "Python 3"
    },
    "language_info": {
      "name": "python"
    }
  },
  "cells": [
    {
      "cell_type": "markdown",
      "metadata": {
        "id": "view-in-github",
        "colab_type": "text"
      },
      "source": [
        "<a href=\"https://colab.research.google.com/github/dongminkim0220/pytorch_tutorial/blob/master/RNN_LSTM_GRU.ipynb\" target=\"_parent\"><img src=\"https://colab.research.google.com/assets/colab-badge.svg\" alt=\"Open In Colab\"/></a>"
      ]
    },
    {
      "cell_type": "markdown",
      "metadata": {
        "id": "P1cuJMB-u3q0"
      },
      "source": [
        "# RNN, LSTM, GRU"
      ]
    },
    {
      "cell_type": "markdown",
      "metadata": {
        "id": "vWCaufBOvGeM"
      },
      "source": [
        "PyTorch RNN Tutorial - Name Classification Using A Recurrent Neural Net\n",
        "\n",
        "https://www.youtube.com/watch?v=WEV61GmmPrk&list=PLqnslRFeH2UrcDBWF5mfPGpqQDSta6VK4&index=19\n",
        "\n",
        "PyTorch Tutorial - RNN & LSTM & GRU - Recurrent Neural Nets\n",
        "\n",
        "https://www.youtube.com/watch?v=0_PgWWmauHk&list=PLqnslRFeH2UrcDBWF5mfPGpqQDSta6VK4&index=20"
      ]
    },
    {
      "cell_type": "code",
      "metadata": {
        "colab": {
          "base_uri": "https://localhost:8080/"
        },
        "id": "G4XDMkk-xsI-",
        "outputId": "73e0bd6c-2eb6-4fd8-c2b0-bae12fe2bb02"
      },
      "source": [
        "from google.colab import drive\n",
        "drive.mount(\"/content/drive\")"
      ],
      "execution_count": 10,
      "outputs": [
        {
          "output_type": "stream",
          "text": [
            "Mounted at /content/drive\n"
          ],
          "name": "stdout"
        }
      ]
    },
    {
      "cell_type": "code",
      "metadata": {
        "colab": {
          "base_uri": "https://localhost:8080/"
        },
        "id": "ZOMdFeVKx61b",
        "outputId": "72788248-f371-4a68-8de3-54f27b00215b"
      },
      "source": [
        "!pwd"
      ],
      "execution_count": 11,
      "outputs": [
        {
          "output_type": "stream",
          "text": [
            "/content\n"
          ],
          "name": "stdout"
        }
      ]
    },
    {
      "cell_type": "code",
      "metadata": {
        "colab": {
          "base_uri": "https://localhost:8080/"
        },
        "id": "0Uebkh7Gx8rk",
        "outputId": "14b15384-bc9d-4207-d5ec-b6bf5c873793"
      },
      "source": [
        "%cd drive/MyDrive/pytorch\\ intro"
      ],
      "execution_count": 12,
      "outputs": [
        {
          "output_type": "stream",
          "text": [
            "/content/drive/MyDrive/pytorch intro\n"
          ],
          "name": "stdout"
        }
      ]
    },
    {
      "cell_type": "code",
      "metadata": {
        "id": "rKxC-VxivTUT"
      },
      "source": [
        "import torch\n",
        "import torch.nn as nn\n",
        "import matplotlib.pyplot as plt\n",
        "from utils import ALL_LETTERS, N_LETTERS\n",
        "from utils import load_data, letter_to_tensor, line_to_tensor, random_training_example"
      ],
      "execution_count": 14,
      "outputs": []
    },
    {
      "cell_type": "markdown",
      "metadata": {
        "id": "CzCKAy4uwUMj"
      },
      "source": [
        "## RNN from scratch"
      ]
    },
    {
      "cell_type": "code",
      "metadata": {
        "id": "kVBx_UwIycyD"
      },
      "source": [
        "class RNN(nn.Module):\n",
        "    def __init__(self, input_size, hidden_size, output_size):\n",
        "        super(RNN, self).__init__()\n",
        "        self.hidden_size = hidden_size\n",
        "        self.i2h = nn.Linear(input_size + hidden_size, hidden_size)\n",
        "        self.i2o = nn.Linear(input_size + hidden_size, output_size)\n",
        "        self.softmax = nn.LogSoftmax(dim = 1)\n",
        "    \n",
        "    def forward(self, input_tensor, hidden_tensor):\n",
        "        combined = torch.cat((input_tensor, hidden_tensor), 1)\n",
        "        hidden = self.i2h(combined)\n",
        "        output = self.i2o(combined)\n",
        "        output = self.softmax(output)\n",
        "        return output, hidden\n",
        "\n",
        "    def init_hidden(self):\n",
        "        return torch.zeros(1, self.hidden_size)"
      ],
      "execution_count": 15,
      "outputs": []
    },
    {
      "cell_type": "code",
      "metadata": {
        "id": "a1W46LTLzzIJ"
      },
      "source": [
        "category_lines, all_categories = load_data()"
      ],
      "execution_count": 27,
      "outputs": []
    },
    {
      "cell_type": "code",
      "metadata": {
        "id": "0BbiNq-bz4qc"
      },
      "source": [
        "n_categories = len(category_lines)"
      ],
      "execution_count": 28,
      "outputs": []
    },
    {
      "cell_type": "code",
      "metadata": {
        "colab": {
          "base_uri": "https://localhost:8080/"
        },
        "id": "B5cnV6PLz50y",
        "outputId": "3d295734-b0d0-48cf-af64-fba6e238bf8e"
      },
      "source": [
        "n_categories, all_categories"
      ],
      "execution_count": 29,
      "outputs": [
        {
          "output_type": "execute_result",
          "data": {
            "text/plain": [
              "(18,\n",
              " ['Polish',\n",
              "  'Italian',\n",
              "  'Arabic',\n",
              "  'Irish',\n",
              "  'Czech',\n",
              "  'Dutch',\n",
              "  'French',\n",
              "  'Scottish',\n",
              "  'Japanese',\n",
              "  'English',\n",
              "  'Korean',\n",
              "  'Russian',\n",
              "  'German',\n",
              "  'Greek',\n",
              "  'Spanish',\n",
              "  'Vietnamese',\n",
              "  'Chinese',\n",
              "  'Portuguese'])"
            ]
          },
          "metadata": {
            "tags": []
          },
          "execution_count": 29
        }
      ]
    },
    {
      "cell_type": "markdown",
      "metadata": {
        "id": "GvC8Y_qs1euK"
      },
      "source": [
        "Try some examples"
      ]
    },
    {
      "cell_type": "code",
      "metadata": {
        "id": "PD-WCLP-0cOU"
      },
      "source": [
        "n_hidden = 128\n",
        "rnn = RNN(N_LETTERS, n_hidden, n_categories)"
      ],
      "execution_count": 30,
      "outputs": []
    },
    {
      "cell_type": "code",
      "metadata": {
        "id": "MY8CTrYI0rOb"
      },
      "source": [
        "input_tensor = letter_to_tensor(\"A\")\n",
        "hidden_tensor = rnn.init_hidden()\n",
        "output, next_hidden = rnn(input_tensor, hidden_tensor)"
      ],
      "execution_count": 31,
      "outputs": []
    },
    {
      "cell_type": "code",
      "metadata": {
        "colab": {
          "base_uri": "https://localhost:8080/"
        },
        "id": "RkGlIHbe1CXx",
        "outputId": "3a355496-1365-4907-bd19-1db95d1e06e7"
      },
      "source": [
        "output.size()"
      ],
      "execution_count": 33,
      "outputs": [
        {
          "output_type": "execute_result",
          "data": {
            "text/plain": [
              "torch.Size([1, 18])"
            ]
          },
          "metadata": {
            "tags": []
          },
          "execution_count": 33
        }
      ]
    },
    {
      "cell_type": "code",
      "metadata": {
        "colab": {
          "base_uri": "https://localhost:8080/"
        },
        "id": "I59EhEhX1EZ6",
        "outputId": "c0cab7a1-0aea-4666-e1a7-2eab018077de"
      },
      "source": [
        "next_hidden.size()"
      ],
      "execution_count": 34,
      "outputs": [
        {
          "output_type": "execute_result",
          "data": {
            "text/plain": [
              "torch.Size([1, 128])"
            ]
          },
          "metadata": {
            "tags": []
          },
          "execution_count": 34
        }
      ]
    },
    {
      "cell_type": "code",
      "metadata": {
        "id": "XGbTRnny1Jai"
      },
      "source": [
        "input_tensor = line_to_tensor(\"Albert\")\n",
        "hidden_tensor = rnn.init_hidden()\n",
        "output, next_hidden = rnn(input_tensor[0], hidden_tensor)"
      ],
      "execution_count": 36,
      "outputs": []
    },
    {
      "cell_type": "code",
      "metadata": {
        "colab": {
          "base_uri": "https://localhost:8080/"
        },
        "id": "ji6P5opM1inc",
        "outputId": "8b86ebfa-7ece-4d46-850f-2a5c7d97414e"
      },
      "source": [
        "output.size()"
      ],
      "execution_count": 37,
      "outputs": [
        {
          "output_type": "execute_result",
          "data": {
            "text/plain": [
              "torch.Size([1, 18])"
            ]
          },
          "metadata": {
            "tags": []
          },
          "execution_count": 37
        }
      ]
    },
    {
      "cell_type": "code",
      "metadata": {
        "colab": {
          "base_uri": "https://localhost:8080/"
        },
        "id": "1Zr4faVA1mzT",
        "outputId": "7fb2390f-2cf0-4021-d983-4c6fc671a4e0"
      },
      "source": [
        "next_hidden.size()"
      ],
      "execution_count": 38,
      "outputs": [
        {
          "output_type": "execute_result",
          "data": {
            "text/plain": [
              "torch.Size([1, 128])"
            ]
          },
          "metadata": {
            "tags": []
          },
          "execution_count": 38
        }
      ]
    },
    {
      "cell_type": "markdown",
      "metadata": {
        "id": "0OGbhEzv1oA6"
      },
      "source": [
        "Helper function"
      ]
    },
    {
      "cell_type": "code",
      "metadata": {
        "id": "C4HIHhbW1yhB"
      },
      "source": [
        "def category_from_output(output):\n",
        "    category_idx = torch.argmax(output).item()\n",
        "    return all_categories[category_idx]"
      ],
      "execution_count": 39,
      "outputs": []
    },
    {
      "cell_type": "code",
      "metadata": {
        "colab": {
          "base_uri": "https://localhost:8080/",
          "height": 35
        },
        "id": "TIj_O7rb2BfD",
        "outputId": "7609e91f-6299-49ab-b1c8-26536b883478"
      },
      "source": [
        "category_from_output(output)"
      ],
      "execution_count": 40,
      "outputs": [
        {
          "output_type": "execute_result",
          "data": {
            "application/vnd.google.colaboratory.intrinsic+json": {
              "type": "string"
            },
            "text/plain": [
              "'Czech'"
            ]
          },
          "metadata": {
            "tags": []
          },
          "execution_count": 40
        }
      ]
    },
    {
      "cell_type": "markdown",
      "metadata": {
        "id": "iR9vPDlF2ESb"
      },
      "source": [
        "train"
      ]
    },
    {
      "cell_type": "code",
      "metadata": {
        "id": "ejClQS-K2MTp"
      },
      "source": [
        "criterion = nn.NLLLoss()\n",
        "learning_rate = 0.005\n",
        "optimizer = torch.optim.SGD(rnn.parameters(), lr = learning_rate)"
      ],
      "execution_count": 41,
      "outputs": []
    },
    {
      "cell_type": "code",
      "metadata": {
        "id": "CuLFNbDP2XnJ"
      },
      "source": [
        "def train(line_tensor, category_tensor):\n",
        "    hidden = rnn.init_hidden()\n",
        "    \n",
        "    for i in range(line_tensor.size()[0]):\n",
        "        output, hidden = rnn(line_tensor[i], hidden)\n",
        "\n",
        "    loss = criterion(output, category_tensor)\n",
        "\n",
        "    optimizer.zero_grad()\n",
        "    loss.backward()\n",
        "    optimizer.step()\n",
        "\n",
        "    return output, loss"
      ],
      "execution_count": 42,
      "outputs": []
    },
    {
      "cell_type": "code",
      "metadata": {
        "id": "TAiUEkvJ2-i-"
      },
      "source": [
        "current_loss = 0\n",
        "all_losses = []\n",
        "plot_steps, print_steps = 1000, 5000\n",
        "n_iters = 100000"
      ],
      "execution_count": 43,
      "outputs": []
    },
    {
      "cell_type": "code",
      "metadata": {
        "colab": {
          "base_uri": "https://localhost:8080/"
        },
        "id": "iaogRs6P3G87",
        "outputId": "ecc70d30-aefa-4cda-f770-9925fa7168d3"
      },
      "source": [
        "for i in range(n_iters):\n",
        "    category, line, category_tensor, line_tensor = random_training_example(category_lines, all_categories)\n",
        "    output, loss = train(line_tensor, category_tensor)\n",
        "    current_loss += loss\n",
        "\n",
        "    if (i+1) % plot_steps == 0:\n",
        "        all_losses.append(current_loss / plot_steps)\n",
        "        current_loss = 0\n",
        "    \n",
        "    if (i+1) % print_steps == 0:\n",
        "        guess = category_from_output(output)\n",
        "        correct = \"CORRECT\" if guess == category else f\"WRONG {category}\"\n",
        "        print(f\"{i} {i/n_iters * 100} {loss:.4f} {line} / {guess} {correct}\")"
      ],
      "execution_count": 45,
      "outputs": [
        {
          "output_type": "stream",
          "text": [
            "4999 4.999 3.1483 Sorg / Chinese WRONG German\n",
            "9999 9.998999999999999 2.3989 Semick / English WRONG Czech\n",
            "14999 14.999 1.2251 Imada / Japanese CORRECT\n",
            "19999 19.999 2.6165 Simoes / Dutch WRONG Portuguese\n",
            "24999 24.999 1.4845 Aritza / Portuguese WRONG Spanish\n",
            "29999 29.999 4.2993 Genji / Korean WRONG Japanese\n",
            "34999 34.999 1.1959 Huber / German CORRECT\n",
            "39999 39.999 1.3435 Pavlik / Czech CORRECT\n",
            "44999 44.999 1.0607 Moreno / Portuguese CORRECT\n",
            "49999 49.999 1.1385 Ha / Vietnamese WRONG Korean\n",
            "54999 54.998999999999995 2.9747 Trampota / Italian WRONG Czech\n",
            "59999 59.999 0.1163 Fukushima / Japanese CORRECT\n",
            "64999 64.999 3.3233 Clark / Polish WRONG Irish\n",
            "69999 69.999 1.2617 Maloof / Arabic CORRECT\n",
            "74999 74.99900000000001 0.2803 Quan / Chinese CORRECT\n",
            "79999 79.999 0.5862 Madeira / Portuguese CORRECT\n",
            "84999 84.999 0.9005 Chu / Vietnamese CORRECT\n",
            "89999 89.999 1.5867 Araujo / Portuguese WRONG Spanish\n",
            "94999 94.999 1.2737 Seeger / German WRONG Dutch\n",
            "99999 99.99900000000001 0.9562 Han / Chinese WRONG Vietnamese\n"
          ],
          "name": "stdout"
        }
      ]
    },
    {
      "cell_type": "code",
      "metadata": {
        "colab": {
          "base_uri": "https://localhost:8080/",
          "height": 265
        },
        "id": "uy5--6103q_M",
        "outputId": "4a325a3c-86b0-4887-8061-c2b75e8c8bec"
      },
      "source": [
        "plt.figure()\n",
        "plt.plot(all_losses)\n",
        "plt.show()"
      ],
      "execution_count": 46,
      "outputs": [
        {
          "output_type": "display_data",
          "data": {
            "image/png": "[encoded data removed]",
            "text/plain": [
              "<Figure size 432x288 with 1 Axes>"
            ]
          },
          "metadata": {
            "tags": [],
            "needs_background": "light"
          }
        }
      ]
    },
    {
      "cell_type": "code",
      "metadata": {
        "id": "dKCPSgER4ZO7"
      },
      "source": [
        "def predict(input_line):\n",
        "    print(f\"\\n> {input_line}\")\n",
        "    with torch.no_grad():\n",
        "        line_tensor = line_to_tensor(input_line)\n",
        "        hidden = rnn.init_hidden()\n",
        "\n",
        "        for i in range(line_tensor.size()[0]):\n",
        "            output, hidden = rnn(line_tensor[i], hidden)\n",
        "        \n",
        "        guess = category_from_output(output)\n",
        "        print(guess)"
      ],
      "execution_count": 47,
      "outputs": []
    },
    {
      "cell_type": "code",
      "metadata": {
        "colab": {
          "base_uri": "https://localhost:8080/"
        },
        "id": "MKpQmEiJ4Sc1",
        "outputId": "50ccf66c-eb24-49f9-ba99-336472813f34"
      },
      "source": [
        "while True:\n",
        "    sentence = input(\"input: \")\n",
        "    if sentence == \"quit\":\n",
        "        break\n",
        "    \n",
        "    predict(sentence)"
      ],
      "execution_count": 50,
      "outputs": [
        {
          "output_type": "stream",
          "text": [
            "input: adler\n",
            "\n",
            "> adler\n",
            "French\n",
            "input: acker\n",
            "\n",
            "> acker\n",
            "German\n",
            "input: abaimov\n",
            "\n",
            "> abaimov\n",
            "Russian\n",
            "input: bao\n",
            "\n",
            "> bao\n",
            "Spanish\n",
            "input: bai\n",
            "\n",
            "> bai\n",
            "Polish\n",
            "input: quit\n"
          ],
          "name": "stdout"
        }
      ]
    },
    {
      "cell_type": "code",
      "metadata": {
        "id": "-z71gmKk4-e7"
      },
      "source": [
        " "
      ],
      "execution_count": null,
      "outputs": []
    }
  ]
}