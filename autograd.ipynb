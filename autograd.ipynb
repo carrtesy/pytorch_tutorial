{
  "nbformat": 4,
  "nbformat_minor": 0,
  "metadata": {
    "colab": {
      "name": "autograd.ipynb",
      "provenance": [],
      "authorship_tag": "ABX9TyO7paQw22+7yqF+6C3U7RDP",
      "include_colab_link": true
    },
    "kernelspec": {
      "name": "python3",
      "display_name": "Python 3"
    },
    "language_info": {
      "name": "python"
    }
  },
  "cells": [
    {
      "cell_type": "markdown",
      "metadata": {
        "id": "view-in-github",
        "colab_type": "text"
      },
      "source": [
        "<a href=\"https://colab.research.google.com/github/dongminkim0220/pytorch_tutorial/blob/master/autograd.ipynb\" target=\"_parent\"><img src=\"https://colab.research.google.com/assets/colab-badge.svg\" alt=\"Open In Colab\"/></a>"
      ]
    },
    {
      "cell_type": "markdown",
      "metadata": {
        "id": "so8EvU1zV4wa"
      },
      "source": [
        "# Autograd"
      ]
    },
    {
      "cell_type": "markdown",
      "metadata": {
        "id": "xOCwfzddV9gL"
      },
      "source": [
        "PyTorch Tutorial 03 - Gradient Calculation With Autograd\n",
        "\n",
        "https://www.youtube.com/watch?v=DbeIqrwb_dE&list=PLqnslRFeH2UrcDBWF5mfPGpqQDSta6VK4&index=3"
      ]
    },
    {
      "cell_type": "code",
      "metadata": {
        "id": "0vS7hG0ZVlJ8"
      },
      "source": [
        "import torch"
      ],
      "execution_count": 2,
      "outputs": []
    },
    {
      "cell_type": "code",
      "metadata": {
        "id": "hO9goQSXVgZ_"
      },
      "source": [
        "x = torch.randn(3, requires_grad=True)"
      ],
      "execution_count": 15,
      "outputs": []
    },
    {
      "cell_type": "code",
      "metadata": {
        "colab": {
          "base_uri": "https://localhost:8080/"
        },
        "id": "usF7rqbsVkIJ",
        "outputId": "fcb9ce84-0831-498f-dada-7f3799a7c0d0"
      },
      "source": [
        "x"
      ],
      "execution_count": 16,
      "outputs": [
        {
          "output_type": "execute_result",
          "data": {
            "text/plain": [
              "tensor([0.6470, 0.6624, 0.7667], requires_grad=True)"
            ]
          },
          "metadata": {
            "tags": []
          },
          "execution_count": 16
        }
      ]
    },
    {
      "cell_type": "code",
      "metadata": {
        "id": "jGmHo2GIVkaW"
      },
      "source": [
        "y = x + 2"
      ],
      "execution_count": 17,
      "outputs": []
    },
    {
      "cell_type": "code",
      "metadata": {
        "colab": {
          "base_uri": "https://localhost:8080/"
        },
        "id": "_oYWdZR8WVWj",
        "outputId": "6eed1762-b4da-46b9-8752-bf056cf238a7"
      },
      "source": [
        "y"
      ],
      "execution_count": 18,
      "outputs": [
        {
          "output_type": "execute_result",
          "data": {
            "text/plain": [
              "tensor([2.6470, 2.6624, 2.7667], grad_fn=<AddBackward0>)"
            ]
          },
          "metadata": {
            "tags": []
          },
          "execution_count": 18
        }
      ]
    },
    {
      "cell_type": "code",
      "metadata": {
        "id": "JEaooEORVuNG"
      },
      "source": [
        "z = y * y * 2"
      ],
      "execution_count": 19,
      "outputs": []
    },
    {
      "cell_type": "code",
      "metadata": {
        "colab": {
          "base_uri": "https://localhost:8080/"
        },
        "id": "h9TTUzXCV8r0",
        "outputId": "40be8b92-e965-4a00-fbeb-d6f58b1fcf43"
      },
      "source": [
        "z"
      ],
      "execution_count": 20,
      "outputs": [
        {
          "output_type": "execute_result",
          "data": {
            "text/plain": [
              "tensor([14.0136, 14.1766, 15.3089], grad_fn=<MulBackward0>)"
            ]
          },
          "metadata": {
            "tags": []
          },
          "execution_count": 20
        }
      ]
    },
    {
      "cell_type": "code",
      "metadata": {
        "id": "bB8d_oCQWSej"
      },
      "source": [
        "z = z.mean()"
      ],
      "execution_count": 21,
      "outputs": []
    },
    {
      "cell_type": "code",
      "metadata": {
        "colab": {
          "base_uri": "https://localhost:8080/"
        },
        "id": "OI23lhNfWZEE",
        "outputId": "62d287fc-b8ea-4ba4-d40b-dbf390ff0385"
      },
      "source": [
        "z"
      ],
      "execution_count": 22,
      "outputs": [
        {
          "output_type": "execute_result",
          "data": {
            "text/plain": [
              "tensor(14.4997, grad_fn=<MeanBackward0>)"
            ]
          },
          "metadata": {
            "tags": []
          },
          "execution_count": 22
        }
      ]
    },
    {
      "cell_type": "code",
      "metadata": {
        "id": "bOYOajScWZbE"
      },
      "source": [
        "z.backward() # dz/dx"
      ],
      "execution_count": 23,
      "outputs": []
    },
    {
      "cell_type": "code",
      "metadata": {
        "colab": {
          "base_uri": "https://localhost:8080/"
        },
        "id": "k1B9KmWxWh6D",
        "outputId": "05c82d3f-debb-41b1-a5b7-1a9a375de4fe"
      },
      "source": [
        "z"
      ],
      "execution_count": 24,
      "outputs": [
        {
          "output_type": "execute_result",
          "data": {
            "text/plain": [
              "tensor(14.4997, grad_fn=<MeanBackward0>)"
            ]
          },
          "metadata": {
            "tags": []
          },
          "execution_count": 24
        }
      ]
    },
    {
      "cell_type": "code",
      "metadata": {
        "colab": {
          "base_uri": "https://localhost:8080/"
        },
        "id": "T3AdV9TWWikL",
        "outputId": "7dc991ac-295a-425e-c28d-b9ea70d4fccc"
      },
      "source": [
        "x.grad"
      ],
      "execution_count": 26,
      "outputs": [
        {
          "output_type": "execute_result",
          "data": {
            "text/plain": [
              "tensor([3.5294, 3.5498, 3.6889])"
            ]
          },
          "metadata": {
            "tags": []
          },
          "execution_count": 26
        }
      ]
    },
    {
      "cell_type": "code",
      "metadata": {
        "id": "INqtS7m5W1UN"
      },
      "source": [
        "v = torch.tensor([0.1, 1.0, 0.001], dtype = torch.float32)"
      ],
      "execution_count": 27,
      "outputs": []
    },
    {
      "cell_type": "markdown",
      "metadata": {
        "id": "Yd9A6HZPXeG8"
      },
      "source": [
        "## no grad"
      ]
    },
    {
      "cell_type": "code",
      "metadata": {
        "colab": {
          "base_uri": "https://localhost:8080/"
        },
        "id": "c05dOTFoXgJT",
        "outputId": "1e680e78-337c-4d37-9054-69a88e5ca206"
      },
      "source": [
        "x.requires_grad_(False)"
      ],
      "execution_count": 29,
      "outputs": [
        {
          "output_type": "execute_result",
          "data": {
            "text/plain": [
              "tensor([0.6470, 0.6624, 0.7667])"
            ]
          },
          "metadata": {
            "tags": []
          },
          "execution_count": 29
        }
      ]
    },
    {
      "cell_type": "code",
      "metadata": {
        "colab": {
          "base_uri": "https://localhost:8080/"
        },
        "id": "Z4EAxQV5YAEt",
        "outputId": "cef22a66-ca65-42dc-a3b4-5fcee4ae9efc"
      },
      "source": [
        "x"
      ],
      "execution_count": 30,
      "outputs": [
        {
          "output_type": "execute_result",
          "data": {
            "text/plain": [
              "tensor([0.6470, 0.6624, 0.7667])"
            ]
          },
          "metadata": {
            "tags": []
          },
          "execution_count": 30
        }
      ]
    },
    {
      "cell_type": "code",
      "metadata": {
        "id": "YyGYumBjYAaV"
      },
      "source": [
        "y = x.detach()"
      ],
      "execution_count": 31,
      "outputs": []
    },
    {
      "cell_type": "code",
      "metadata": {
        "colab": {
          "base_uri": "https://localhost:8080/"
        },
        "id": "NcmcAocWYGA6",
        "outputId": "56780951-652d-4ac3-c43f-44dec7cc1155"
      },
      "source": [
        "with torch.no_grad():\n",
        "  y = x + 2\n",
        "  print(y)"
      ],
      "execution_count": 33,
      "outputs": [
        {
          "output_type": "stream",
          "text": [
            "tensor([2.6470, 2.6624, 2.7667])\n"
          ],
          "name": "stdout"
        }
      ]
    },
    {
      "cell_type": "code",
      "metadata": {
        "id": "c3w_-ES0YNOr"
      },
      "source": [
        "weights = torch.ones(4, requires_grad=True)"
      ],
      "execution_count": 34,
      "outputs": []
    },
    {
      "cell_type": "code",
      "metadata": {
        "colab": {
          "base_uri": "https://localhost:8080/"
        },
        "id": "Sx8sR-tQYffN",
        "outputId": "1cff2f16-0734-463a-d7c9-ae4ff346a7fc"
      },
      "source": [
        "for epoch in range(1, 2):\n",
        "  model_output = (weights * 3).sum()\n",
        "  model_output.backward()\n",
        "  print(weights.grad)\n",
        "  weights.grad.zero_()"
      ],
      "execution_count": 36,
      "outputs": [
        {
          "output_type": "stream",
          "text": [
            "tensor([6., 6., 6., 6.])\n"
          ],
          "name": "stdout"
        }
      ]
    }
  ]
}